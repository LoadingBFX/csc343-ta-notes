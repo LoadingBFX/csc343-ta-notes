{
 "cells": [
  {
   "cell_type": "markdown",
   "metadata": {},
   "source": [
    "# Overview"
   ]
  },
  {
   "cell_type": "markdown",
   "metadata": {},
   "source": [
    "# Imports"
   ]
  },
  {
   "cell_type": "code",
   "execution_count": null,
   "metadata": {},
   "outputs": [],
   "source": [
    "import pandas as pd\n",
    "import sqlalchemy as sa"
   ]
  },
  {
   "cell_type": "code",
   "execution_count": null,
   "metadata": {},
   "outputs": [],
   "source": [
    "%run sql_magic.ipynb"
   ]
  },
  {
   "cell_type": "markdown",
   "metadata": {},
   "source": [
    "# Configure database"
   ]
  },
  {
   "cell_type": "code",
   "execution_count": null,
   "metadata": {
    "code_folding": []
   },
   "outputs": [],
   "source": [
    "DB_URL = \"postgres://postgres:@localhost:5432/postgres\""
   ]
  },
  {
   "cell_type": "markdown",
   "metadata": {},
   "source": [
    "## Set up `University` schema\n",
    "\n",
    "Only do this if you are setting up PostgreSQL for the first time!"
   ]
  },
  {
   "cell_type": "code",
   "execution_count": null,
   "metadata": {},
   "outputs": [],
   "source": [
    "!psql {DB_URL} -f ../data/coursesDDL.txt >/dev/null"
   ]
  },
  {
   "cell_type": "code",
   "execution_count": null,
   "metadata": {
    "scrolled": false
   },
   "outputs": [],
   "source": [
    "!psql {DB_URL} -f ../data/coursesData.txt >/dev/null"
   ]
  },
  {
   "cell_type": "markdown",
   "metadata": {},
   "source": [
    "## Create database engine"
   ]
  },
  {
   "cell_type": "code",
   "execution_count": null,
   "metadata": {},
   "outputs": [],
   "source": [
    "engine = sa.create_engine(DB_URL, connect_args={'options': '-csearch_path=University'})"
   ]
  },
  {
   "cell_type": "code",
   "execution_count": null,
   "metadata": {
    "scrolled": false
   },
   "outputs": [],
   "source": [
    "engine.table_names()"
   ]
  },
  {
   "cell_type": "markdown",
   "metadata": {},
   "source": [
    "# Exercises"
   ]
  },
  {
   "cell_type": "markdown",
   "metadata": {},
   "source": [
    "## SQL: Outer Joins etc."
   ]
  },
  {
   "cell_type": "markdown",
   "metadata": {},
   "source": [
    "#### 1. Which of these queries is legal?"
   ]
  },
  {
   "cell_type": "code",
   "execution_count": null,
   "metadata": {},
   "outputs": [],
   "source": [
    "%%sql\n",
    "SELECT count(distinct dept), count(distinct instructor)\n",
    "FROM Offering\n",
    "WHERE term >= 20089;"
   ]
  },
  {
   "cell_type": "code",
   "execution_count": null,
   "metadata": {},
   "outputs": [],
   "source": [
    "%%sql\n",
    "SELECT distinct dept, distinct instructor\n",
    "FROM Offering\n",
    "WHERE term >= 20089;"
   ]
  },
  {
   "cell_type": "code",
   "execution_count": null,
   "metadata": {
    "code_folding": []
   },
   "outputs": [],
   "source": [
    "%%sql\n",
    "SELECT distinct dept, instructor\n",
    "FROM Offering\n",
    "WHERE term >= 20089;"
   ]
  },
  {
   "cell_type": "markdown",
   "metadata": {},
   "source": [
    "#### 2. Under what conditions could these two queries give different results? If that is not possible, explain why."
   ]
  },
  {
   "cell_type": "code",
   "execution_count": null,
   "metadata": {},
   "outputs": [],
   "source": [
    "%%sql\n",
    "SELECT surName, campus\n",
    "FROM Student;"
   ]
  },
  {
   "cell_type": "code",
   "execution_count": null,
   "metadata": {},
   "outputs": [],
   "source": [
    "%%sql\n",
    "SELECT distinct surName, campus\n",
    "FROM Student;"
   ]
  },
  {
   "cell_type": "markdown",
   "metadata": {},
   "source": [
    "#### 3. For each student who has taken a course, report their sid and the number of different departments they have taken a course in."
   ]
  },
  {
   "cell_type": "code",
   "execution_count": null,
   "metadata": {
    "code_folding": [
     0
    ]
   },
   "outputs": [],
   "source": [
    "%%sql\n",
    "SELECT sid, count(distinct dept)\n",
    "FROM Took JOIN Offering ON Took.oid = Offering.oid\n",
    "GROUP BY sid;"
   ]
  },
  {
   "cell_type": "markdown",
   "metadata": {},
   "source": [
    "#### 4. Suppose we have two tables with content as follows:"
   ]
  },
  {
   "cell_type": "code",
   "execution_count": null,
   "metadata": {
    "code_folding": [
     0
    ]
   },
   "outputs": [],
   "source": [
    "%%sql # One\n",
    "drop table if exists One;\n",
    "\n",
    "create table One (\n",
    "    a int,\n",
    "    b int\n",
    ");\n",
    "\n",
    "insert into One values (1, 2), (6, 12), (null, 100), (20, null);\n",
    "\n",
    "select * from One;"
   ]
  },
  {
   "cell_type": "code",
   "execution_count": null,
   "metadata": {
    "code_folding": [
     0
    ]
   },
   "outputs": [],
   "source": [
    "%%sql # Two\n",
    "drop table if exists Two;\n",
    "\n",
    "create table Two (\n",
    "    b int,\n",
    "    c int\n",
    ");\n",
    "\n",
    "insert into Two values (2, 3), (100, 101), (20, 21), (2, 4), (2, 5);\n",
    "\n",
    "select * from Two;"
   ]
  },
  {
   "cell_type": "markdown",
   "metadata": {},
   "source": [
    "(a) What query could produce this result?\n",
    "\n",
    "| a | b | c |\n",
    "|- | - | - |\n",
    "| 1 | 2 | 3 |\n",
    "| 1 | 2 | 4 |\n",
    "| 1 | 2 | 5 |\n",
    "| | 20 | 21 |\n",
    "| | 100 | 101 |"
   ]
  },
  {
   "cell_type": "code",
   "execution_count": null,
   "metadata": {
    "code_folding": [
     0
    ]
   },
   "outputs": [],
   "source": [
    "%%sql\n",
    "SELECT * FROM Two NATURAL LEFT JOIN One;"
   ]
  },
  {
   "cell_type": "code",
   "execution_count": null,
   "metadata": {
    "code_folding": [
     0
    ]
   },
   "outputs": [],
   "source": [
    "%%sql\n",
    "SELECT * FROM One NATURAL RIGHT JOIN Two;"
   ]
  },
  {
   "cell_type": "markdown",
   "metadata": {},
   "source": [
    "(b) What query could produce this result?\n",
    "\n",
    "| a | b | c |\n",
    "| - | - | - |\n",
    "| 1 | 2 | 3 |\n",
    "| 1 | 2 | 4 |\n",
    "| 1 | 2 | 5 |\n",
    "| 6 | 12 | |\n",
    "| | 100 | 101 |\n",
    "| 20 | | |"
   ]
  },
  {
   "cell_type": "code",
   "execution_count": null,
   "metadata": {
    "code_folding": [
     0
    ]
   },
   "outputs": [],
   "source": [
    "%%sql\n",
    "SELECT * FROM One NATURAL LEFT JOIN Two;"
   ]
  },
  {
   "cell_type": "code",
   "execution_count": null,
   "metadata": {
    "code_folding": [
     0
    ],
    "scrolled": true
   },
   "outputs": [],
   "source": [
    "%%sql\n",
    "SELECT * FROM Two NATURAL RIGHT JOIN One;"
   ]
  },
  {
   "cell_type": "markdown",
   "metadata": {},
   "source": [
    "## Subqueries: Solutions"
   ]
  },
  {
   "cell_type": "markdown",
   "metadata": {},
   "source": [
    "#### 1. What does this query do? (Recall that the || operator concatenates two strings.)"
   ]
  },
  {
   "cell_type": "code",
   "execution_count": null,
   "metadata": {},
   "outputs": [],
   "source": [
    "%%sql\n",
    "SELECT sid, dept||cnum as course, grade\n",
    "FROM Took,\n",
    "(\n",
    "    SELECT *\n",
    "    FROM Offering\n",
    "    WHERE instructor = 'Horton'\n",
    ") Hoffering\n",
    "WHERE Took.oid = Hoffering.oid;"
   ]
  },
  {
   "cell_type": "markdown",
   "metadata": {},
   "source": [
    "#### 2. What does this query do?"
   ]
  },
  {
   "cell_type": "code",
   "execution_count": null,
   "metadata": {},
   "outputs": [],
   "source": [
    "%%sql\n",
    "SELECT sid, surname\n",
    "FROM Student\n",
    "WHERE cgpa >\n",
    "(\n",
    "    SELECT cgpa\n",
    "    FROM Student\n",
    "    WHERE sid = 99999  -- 11111\n",
    ");"
   ]
  },
  {
   "cell_type": "markdown",
   "metadata": {},
   "source": [
    "#### 3. What does this query do?"
   ]
  },
  {
   "cell_type": "code",
   "execution_count": null,
   "metadata": {},
   "outputs": [],
   "source": [
    "%%sql\n",
    "SELECT sid, dept||cnum AS course, grade\n",
    "FROM Took NATURAL JOIN Offering\n",
    "WHERE grade >= 80 AND\n",
    "(cnum, dept) IN (\n",
    "    SELECT cnum, dept\n",
    "    FROM Took NATURAL JOIN Offering NATURAL JOIN Student\n",
    "    WHERE surname = 'Lakemeyer'\n",
    ");"
   ]
  },
  {
   "cell_type": "markdown",
   "metadata": {},
   "source": [
    "#### 4. Suppose we have these relations: R(a, b) and S(b, c)."
   ]
  },
  {
   "cell_type": "markdown",
   "metadata": {},
   "source": [
    "a) What does this query do?\n",
    "\n",
    "```sql\n",
    "SELECT a\n",
    "FROM R\n",
    "WHERE b in (SELECT b FROM S);\n",
    "```"
   ]
  },
  {
   "cell_type": "markdown",
   "metadata": {
    "solution2": "hidden",
    "solution2_first": true
   },
   "source": [
    "b) Can we express this query without using subqueries?"
   ]
  },
  {
   "cell_type": "markdown",
   "metadata": {
    "code_folding": [],
    "collapsed": true,
    "solution2": "hidden"
   },
   "source": [
    "```sql\n",
    "SELECT a\n",
    "FROM R NATURAL JOIN S\n",
    "```"
   ]
  },
  {
   "cell_type": "markdown",
   "metadata": {},
   "source": [
    "#### 5. What does this query do?"
   ]
  },
  {
   "cell_type": "code",
   "execution_count": null,
   "metadata": {},
   "outputs": [],
   "source": [
    "%%sql\n",
    "SELECT instructor\n",
    "FROM Offering Off1\n",
    "WHERE NOT EXISTS (\n",
    "    SELECT *\n",
    "    FROM Offering\n",
    "    WHERE oid <> Off1.oid\n",
    "    AND instructor = Off1.instructor\n",
    ");"
   ]
  },
  {
   "cell_type": "markdown",
   "metadata": {},
   "source": [
    "#### 6. What does this query do?"
   ]
  },
  {
   "cell_type": "code",
   "execution_count": null,
   "metadata": {
    "scrolled": false
   },
   "outputs": [],
   "source": [
    "%%sql\n",
    "SELECT DISTINCT oid\n",
    "FROM Took\n",
    "WHERE EXISTS (\n",
    "    SELECT *\n",
    "    FROM Took t, Offering o\n",
    "    WHERE t.oid = o.oid\n",
    "    AND t.oid <> Took.oid\n",
    "    AND o.dept = 'CSC'\n",
    "    AND took.sid = t.sid\n",
    ");"
   ]
  },
  {
   "cell_type": "markdown",
   "metadata": {
    "collapsed": true
   },
   "source": [
    "#### 7. Now let’s write some queries!\n",
    "\n",
    "For each course, that is, each department and course number combination, find the instructor who has taught the most offerings of it. If there are ties, include them all. Report the course (eg \"csc343\"), instructor and the number of offerings of the course by that instructor."
   ]
  },
  {
   "cell_type": "markdown",
   "metadata": {},
   "source": [
    "(a) First, create a view called Counts to hold, for each course, and each instructor who has taught it, their\n",
    "number of offerings."
   ]
  },
  {
   "cell_type": "code",
   "execution_count": null,
   "metadata": {
    "code_folding": [
     0
    ]
   },
   "outputs": [],
   "source": [
    "%%sql\n",
    "-- This intermediate result is helpful:\n",
    "CREATE OR REPLACE VIEW Counts as\n",
    "SELECT dept || cnum as course, instructor, count(oid)\n",
    "FROM Offering\n",
    "GROUP BY cnum, dept, instructor;\n",
    "\n",
    "COMMIT;\n",
    "\n",
    "-- Let’s take a look at what this computes.\n",
    "-- (Our dataset doesn’t give this view a very good test.)\n",
    "SELECT * from Counts;"
   ]
  },
  {
   "cell_type": "markdown",
   "metadata": {},
   "source": [
    "(b) Now solve the problem. Do not use any joins. (This will force you to use a subquery.)"
   ]
  },
  {
   "cell_type": "code",
   "execution_count": null,
   "metadata": {
    "code_folding": [
     0
    ]
   },
   "outputs": [],
   "source": [
    "%%sql\n",
    "-- Now we can solve the problem using a subquery:\n",
    "SELECT course, instructor, count\n",
    "FROM Counts C1\n",
    "WHERE count >= ALL (\n",
    "    SELECT count\n",
    "    FROM Counts C2\n",
    "    WHERE C1.course = C2.course)\n",
    "ORDER BY C1.course;"
   ]
  },
  {
   "cell_type": "code",
   "execution_count": null,
   "metadata": {
    "code_folding": [
     0
    ]
   },
   "outputs": [],
   "source": [
    "%%sql\n",
    "-- Here’s another version:\n",
    "SELECT course, instructor, count\n",
    "FROM Counts C1\n",
    "WHERE count = (\n",
    "    SELECT max(count)\n",
    "    FROM Counts C2\n",
    "    WHERE C1.course = C2.course)\n",
    "ORDER BY C1.course;"
   ]
  },
  {
   "cell_type": "markdown",
   "metadata": {},
   "source": [
    "#### 8. Use EXISTS to find the surname and email address of students who have never taken a CSC course."
   ]
  },
  {
   "cell_type": "code",
   "execution_count": null,
   "metadata": {
    "code_folding": [
     0
    ]
   },
   "outputs": [],
   "source": [
    "%%sql\n",
    "SELECT surname, email\n",
    "FROM Student\n",
    "WHERE NOT EXISTS (\n",
    "SELECT *\n",
    "FROM Took JOIN Offering ON Took.oid = Offering.oid\n",
    "WHERE Took.sid = Student.sid AND Offering.dept = 'CSC');"
   ]
  },
  {
   "cell_type": "markdown",
   "metadata": {},
   "source": [
    "#### 9. Use EXISTS to find every instructor who has given a grade of 100."
   ]
  },
  {
   "cell_type": "code",
   "execution_count": null,
   "metadata": {
    "code_folding": [
     0
    ]
   },
   "outputs": [],
   "source": [
    "%%sql\n",
    "SELECT distinct instructor\n",
    "FROM Offering O1\n",
    "WHERE EXISTS (\n",
    "    SELECT *\n",
    "    FROM Offering O2 JOIN Took ON O2.oid = Took.oid\n",
    "    WHERE O1.instructor = O2.instructor AND grade = 100);"
   ]
  },
  {
   "cell_type": "markdown",
   "metadata": {},
   "source": [
    "#### 10. Let’s say that a course has level \"junior\" if its cNum is between 100 and 299 inclusive, and has level \"senior\" if its cNum is between 300 and 499 inclusive.\n",
    "\n",
    "Report the average grade, across all departments and course offerings, for all junior courses and for all senior courses. Report your answer in a table that looks like this:\n",
    "\n",
    "| level | levelavg |\n",
    "| ---------|----------- |\n",
    "| junior | |\n",
    "| senior | |\n",
    "\n",
    "Each average should be an average of the individual student grades, not an average of the course averages."
   ]
  },
  {
   "cell_type": "code",
   "execution_count": null,
   "metadata": {
    "code_folding": [
     0
    ]
   },
   "outputs": [],
   "source": [
    "%%sql\n",
    "CREATE OR REPLACE VIEW Grades AS\n",
    "SELECT cnum, dept, grade\n",
    "FROM Offering natural join Took;\n",
    "\n",
    "(SELECT 'junior' AS level, avg(grade) AS levelavg\n",
    " FROM Grades\n",
    " WHERE cnum >= 100 AND cnum <= 299)\n",
    "UNION ALL\n",
    "(SELECT 'senior' AS level, avg(grade) AS levelavg\n",
    " FROM Grades\n",
    " WHERE cnum >= 300 AND cnum <= 499);"
   ]
  },
  {
   "cell_type": "code",
   "execution_count": null,
   "metadata": {},
   "outputs": [],
   "source": []
  }
 ],
 "metadata": {
  "anaconda-cloud": {},
  "kernelspec": {
   "display_name": "Python 3",
   "language": "python",
   "name": "python3"
  },
  "language_info": {
   "codemirror_mode": {
    "name": "ipython",
    "version": 3
   },
   "file_extension": ".py",
   "mimetype": "text/x-python",
   "name": "python",
   "nbconvert_exporter": "python",
   "pygments_lexer": "ipython3",
   "version": "3.6.6"
  },
  "toc": {
   "base_numbering": 1,
   "nav_menu": {
    "height": "13px",
    "width": "251px"
   },
   "number_sections": false,
   "sideBar": true,
   "skip_h1_title": false,
   "title_cell": "Table of Contents",
   "title_sidebar": "Contents",
   "toc_cell": false,
   "toc_position": {
    "height": "542px",
    "left": "61.9896px",
    "right": "20px",
    "top": "130.99px",
    "width": "278px"
   },
   "toc_section_display": true,
   "toc_window_display": true
  }
 },
 "nbformat": 4,
 "nbformat_minor": 2
}
