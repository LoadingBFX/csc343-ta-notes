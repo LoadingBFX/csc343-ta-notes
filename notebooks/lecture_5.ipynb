{
 "cells": [
  {
   "cell_type": "markdown",
   "metadata": {},
   "source": [
    "# Overview\n",
    "\n",
    "<!-- file:///home/strokach/documents/teaching/csc343/2018-fall/slides/SQL-DML.pdf#page=43 -->\n",
    "\n",
    "I'm covering slides 41-90 for Sina.\n",
    "\n",
    "- Table joins:\n",
    "  - Cross join vs. natural join vs. theta join.\n",
    "  - Inner join vs. full / left / right outer join.\n",
    "\n",
    "\n",
    "- Impact of having null values:\n",
    "  - Be super careful when columns involved in JOIN or WHERE have nulls.\n",
    "\n",
    "\n",
    "- Subqueries:\n",
    "  - In `FROM`\n",
    "  - In `WHERE` (`ANY`, `ALL`, `IN`, `EXISTS`)."
   ]
  },
  {
   "cell_type": "markdown",
   "metadata": {},
   "source": [
    "# Imports"
   ]
  },
  {
   "cell_type": "code",
   "execution_count": null,
   "metadata": {},
   "outputs": [],
   "source": [
    "import pandas as pd\n",
    "import sqlalchemy as sa"
   ]
  },
  {
   "cell_type": "code",
   "execution_count": null,
   "metadata": {},
   "outputs": [],
   "source": [
    "%run sql_magic.ipynb"
   ]
  },
  {
   "cell_type": "code",
   "execution_count": null,
   "metadata": {},
   "outputs": [],
   "source": [
    "NOTEBOOK_NAME = \"lecture_5\""
   ]
  },
  {
   "cell_type": "markdown",
   "metadata": {},
   "source": [
    "# Start database"
   ]
  },
  {
   "cell_type": "code",
   "execution_count": null,
   "metadata": {},
   "outputs": [],
   "source": [
    "%run start_db.ipynb"
   ]
  },
  {
   "cell_type": "code",
   "execution_count": null,
   "metadata": {},
   "outputs": [],
   "source": [
    "engine = sa.create_engine(DB_URL, connect_args={'options': '-csearch_path=University'})"
   ]
  },
  {
   "cell_type": "code",
   "execution_count": null,
   "metadata": {
    "scrolled": false
   },
   "outputs": [],
   "source": [
    "engine.table_names()"
   ]
  },
  {
   "cell_type": "markdown",
   "metadata": {},
   "source": [
    "# Examples from lecture"
   ]
  },
  {
   "cell_type": "markdown",
   "metadata": {
    "code_folding": [],
    "run_control": {
     "marked": false
    }
   },
   "source": [
    "## Avoid natural joins"
   ]
  },
  {
   "cell_type": "code",
   "execution_count": null,
   "metadata": {},
   "outputs": [],
   "source": [
    "%%sql\n",
    "-- Select student id, course id, instructor name\n",
    "-- for each course taken by each student\n",
    "SELECT sID, oID, instructor\n",
    "FROM Student NATURAL JOIN Took NATURAL JOIN Offering\n",
    "LIMIT 5;"
   ]
  },
  {
   "cell_type": "code",
   "execution_count": null,
   "metadata": {},
   "outputs": [],
   "source": [
    "%%sql\n",
    "select * from offering limit 2;"
   ]
  },
  {
   "cell_type": "code",
   "execution_count": null,
   "metadata": {},
   "outputs": [],
   "source": [
    "%%sql\n",
    "alter table offering\n",
    "add column campus varchar(255) default null;"
   ]
  },
  {
   "cell_type": "code",
   "execution_count": null,
   "metadata": {
    "scrolled": true
   },
   "outputs": [],
   "source": [
    "%%sql\n",
    "alter table offering drop column campus;"
   ]
  },
  {
   "cell_type": "markdown",
   "metadata": {},
   "source": [
    "## Dangling tuples"
   ]
  },
  {
   "cell_type": "markdown",
   "metadata": {},
   "source": [
    "## Null is special"
   ]
  },
  {
   "cell_type": "code",
   "execution_count": null,
   "metadata": {},
   "outputs": [],
   "source": [
    "%%sql\n",
    "select * from student;"
   ]
  },
  {
   "cell_type": "code",
   "execution_count": null,
   "metadata": {},
   "outputs": [],
   "source": [
    "%%sql\n",
    "drop table if exists student_2;\n",
    "create table student_2 as (select * from student);\n",
    "update student_2 set cgpa = null where sid = 157;\n",
    "update student_2 set cgpa = null where sid = 11111;"
   ]
  },
  {
   "cell_type": "code",
   "execution_count": null,
   "metadata": {
    "code_folding": []
   },
   "outputs": [],
   "source": [
    "%%sql\n",
    "select * from student_2;"
   ]
  },
  {
   "cell_type": "code",
   "execution_count": null,
   "metadata": {},
   "outputs": [],
   "source": [
    "%%sql\n",
    "select avg(cgpa) from student_2;"
   ]
  },
  {
   "cell_type": "code",
   "execution_count": null,
   "metadata": {},
   "outputs": [],
   "source": [
    "%%sql\n",
    "select distinct cgpa from student_2;"
   ]
  },
  {
   "cell_type": "code",
   "execution_count": null,
   "metadata": {},
   "outputs": [],
   "source": [
    "%%sql\n",
    "select count(distinct cgpa) from student_2;"
   ]
  },
  {
   "cell_type": "code",
   "execution_count": null,
   "metadata": {
    "run_control": {
     "marked": false
    }
   },
   "outputs": [],
   "source": [
    "%%sql\n",
    "select cgpa from student_2\n",
    "union\n",
    "-- intersect\n",
    "-- except\n",
    "select cgpa from student_2;"
   ]
  },
  {
   "cell_type": "code",
   "execution_count": null,
   "metadata": {},
   "outputs": [],
   "source": [
    "%%sql\n",
    "select *\n",
    "from student_2\n",
    "where cgpa <= 3.6 or cgpa > 3.6\n",
    "-- or cgpa is null;"
   ]
  },
  {
   "cell_type": "code",
   "execution_count": null,
   "metadata": {},
   "outputs": [],
   "source": [
    "%%sql\n",
    "-- Nulls are skiped in joins\n",
    "select *\n",
    "from student_2 s1\n",
    "join student_2 s2 on (s1.cgpa = s2.cgpa)\n",
    "-- join student_2 s2 ON (s1.cgpa = s2.cgpa or (s1.cgpa is null and s2.cgpa is null))"
   ]
  },
  {
   "cell_type": "code",
   "execution_count": null,
   "metadata": {},
   "outputs": [],
   "source": [
    "%%sql\n",
    "-- Create a unique constraint on cgpa\n",
    "ALTER TABLE student_2 ADD CONSTRAINT unqiue_cgpa UNIQUE (cgpa);"
   ]
  },
  {
   "cell_type": "code",
   "execution_count": null,
   "metadata": {},
   "outputs": [],
   "source": [
    "%%sql\n",
    "-- Can't insert a tuple with a duplicate value for cgpa\n",
    "insert into student_2 values (1, 'Hello', 'World', 'StG', null, 3.13);"
   ]
  },
  {
   "cell_type": "code",
   "execution_count": null,
   "metadata": {},
   "outputs": [],
   "source": [
    "%%sql\n",
    "-- **Can** insert multiple tuples with cgpa = null\n",
    "insert into student_2 values (1, 'Hello', 'World', 'StG', null, null);"
   ]
  },
  {
   "cell_type": "code",
   "execution_count": null,
   "metadata": {},
   "outputs": [],
   "source": [
    "%%sql\n",
    "select *\n",
    "from student_2;"
   ]
  },
  {
   "cell_type": "markdown",
   "metadata": {},
   "source": [
    "https://www.postgresql.org/docs/8.2/static/ddl-constraints.html#AEN2058\n",
    "\n",
    "> In general, a unique constraint is violated when there are two or more rows in the table where the values of all of the columns included in the constraint are equal. However, two null values are not considered equal in this comparison. **That means even in the presence of a unique constraint it is possible to store duplicate rows that contain a null value in at least one of the constrained columns. This behavior conforms to the SQL standard, but we have heard that other SQL databases may not follow this rule.** So be careful when developing applications that are intended to be portable.\n",
    "\n"
   ]
  },
  {
   "cell_type": "markdown",
   "metadata": {},
   "source": [
    "## Subqueries"
   ]
  },
  {
   "cell_type": "markdown",
   "metadata": {},
   "source": [
    "### Worksheet, Q1"
   ]
  },
  {
   "cell_type": "code",
   "execution_count": null,
   "metadata": {},
   "outputs": [],
   "source": [
    "%%sql\n",
    "SELECT sid, dept||cnum as course, grade\n",
    "FROM Took,\n",
    "(\n",
    "    SELECT *\n",
    "    FROM Offering\n",
    "    WHERE instructor = 'Horton'\n",
    ") Hoffering\n",
    "WHERE Took.oid = Hoffering.oid;"
   ]
  },
  {
   "cell_type": "markdown",
   "metadata": {},
   "source": [
    "### Worksheet, Q2"
   ]
  },
  {
   "cell_type": "code",
   "execution_count": null,
   "metadata": {},
   "outputs": [],
   "source": [
    "%%sql\n",
    "SELECT sid, surname\n",
    "FROM Student\n",
    "WHERE cgpa >\n",
    "(\n",
    "    SELECT cgpa\n",
    "    FROM Student\n",
    "    WHERE sid = 99999  -- 11111\n",
    ");"
   ]
  },
  {
   "cell_type": "code",
   "execution_count": null,
   "metadata": {},
   "outputs": [],
   "source": [
    "%%sql\n",
    "select * from student_2;"
   ]
  },
  {
   "cell_type": "code",
   "execution_count": null,
   "metadata": {},
   "outputs": [],
   "source": [
    "%%sql\n",
    "-- Be careful with nulls\n",
    "SELECT sid, surname\n",
    "FROM Student\n",
    "WHERE cgpa >\n",
    "(\n",
    "    SELECT cgpa\n",
    "    FROM student_2\n",
    "    WHERE sid = 11111\n",
    ");"
   ]
  },
  {
   "cell_type": "markdown",
   "metadata": {},
   "source": [
    "### The operator `ANY` / `ALL`"
   ]
  },
  {
   "cell_type": "code",
   "execution_count": null,
   "metadata": {},
   "outputs": [],
   "source": [
    "%%sql\n",
    "SELECT sid, surname\n",
    "FROM Student\n",
    "WHERE cgpa > all\n",
    "(\n",
    "    SELECT cgpa\n",
    "    FROM Student\n",
    "    WHERE campus = 'StG'\n",
    ");"
   ]
  },
  {
   "cell_type": "code",
   "execution_count": null,
   "metadata": {},
   "outputs": [],
   "source": [
    "%%sql\n",
    "select * from student"
   ]
  },
  {
   "cell_type": "markdown",
   "metadata": {},
   "source": [
    "### Worksheet, Q3"
   ]
  },
  {
   "cell_type": "code",
   "execution_count": null,
   "metadata": {},
   "outputs": [],
   "source": [
    "%%sql\n",
    "SELECT sid, dept||cnum AS course, grade\n",
    "FROM Took NATURAL JOIN Offering\n",
    "WHERE grade >= 80 AND\n",
    "(cnum, dept) IN (\n",
    "    SELECT cnum, dept\n",
    "    FROM Took NATURAL JOIN Offering NATURAL JOIN Student\n",
    "    WHERE surname = 'Lakemeyer'\n",
    ");"
   ]
  },
  {
   "cell_type": "markdown",
   "metadata": {},
   "source": [
    "### The Operator `EXISTS`"
   ]
  },
  {
   "cell_type": "code",
   "execution_count": null,
   "metadata": {},
   "outputs": [],
   "source": [
    "%%sql\n",
    "SELECT surname, cgpa\n",
    "FROM Student\n",
    "WHERE EXISTS (\n",
    "    SELECT *\n",
    "    FROM Took\n",
    "    WHERE Student.sid = Took.sid and\n",
    "    grade > 85\n",
    ");"
   ]
  },
  {
   "cell_type": "markdown",
   "metadata": {},
   "source": [
    "### Worksheet, Q5"
   ]
  },
  {
   "cell_type": "code",
   "execution_count": null,
   "metadata": {},
   "outputs": [],
   "source": [
    "%%sql\n",
    "SELECT instructor\n",
    "FROM Offering Off1\n",
    "WHERE NOT EXISTS (\n",
    "    SELECT *\n",
    "    FROM Offering\n",
    "    WHERE oid <> Off1.oid\n",
    "    AND instructor = Off1.instructor\n",
    ");"
   ]
  },
  {
   "cell_type": "markdown",
   "metadata": {},
   "source": [
    "### Worksheet, Q6"
   ]
  },
  {
   "cell_type": "code",
   "execution_count": null,
   "metadata": {},
   "outputs": [],
   "source": [
    "%%sql\n",
    "SELECT DISTINCT oid\n",
    "FROM Took\n",
    "WHERE EXISTS (\n",
    "    SELECT *\n",
    "    FROM Took t, Offering o\n",
    "    WHERE t.oid = o.oid\n",
    "    AND t.oid <> Took.oid\n",
    "    AND o.dept = 'CSC'\n",
    "    AND took.sid = t.sid\n",
    ");"
   ]
  },
  {
   "cell_type": "code",
   "execution_count": null,
   "metadata": {},
   "outputs": [],
   "source": []
  }
 ],
 "metadata": {
  "anaconda-cloud": {},
  "kernelspec": {
   "display_name": "Python 3",
   "language": "python",
   "name": "python3"
  },
  "toc": {
   "base_numbering": 1,
   "nav_menu": {
    "height": "13px",
    "width": "251px"
   },
   "number_sections": false,
   "sideBar": true,
   "skip_h1_title": false,
   "title_cell": "Table of Contents",
   "title_sidebar": "Contents",
   "toc_cell": false,
   "toc_position": {
    "height": "542px",
    "left": "0px",
    "right": "20px",
    "top": "66px",
    "width": "278px"
   },
   "toc_section_display": "block",
   "toc_window_display": true
  }
 },
 "nbformat": 4,
 "nbformat_minor": 2
}
