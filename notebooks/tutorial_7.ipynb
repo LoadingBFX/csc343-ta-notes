{
 "cells": [
  {
   "cell_type": "markdown",
   "metadata": {},
   "source": [
    "# Overview"
   ]
  },
  {
   "cell_type": "markdown",
   "metadata": {},
   "source": [
    "# Imports"
   ]
  },
  {
   "cell_type": "code",
   "execution_count": null,
   "metadata": {
    "collapsed": true
   },
   "outputs": [],
   "source": [
    "import pandas as pd\n",
    "import sqlalchemy as sa"
   ]
  },
  {
   "cell_type": "code",
   "execution_count": null,
   "metadata": {},
   "outputs": [],
   "source": [
    "%run sql_magic.ipynb"
   ]
  },
  {
   "cell_type": "markdown",
   "metadata": {},
   "source": [
    "# Start database"
   ]
  },
  {
   "cell_type": "code",
   "execution_count": null,
   "metadata": {},
   "outputs": [],
   "source": [
    "%run start_db.ipynb"
   ]
  },
  {
   "cell_type": "code",
   "execution_count": null,
   "metadata": {
    "collapsed": true
   },
   "outputs": [],
   "source": [
    "engine = sa.create_engine(DB_URL, connect_args={'options': '-csearch_path=University'})"
   ]
  },
  {
   "cell_type": "code",
   "execution_count": null,
   "metadata": {
    "scrolled": false
   },
   "outputs": [],
   "source": [
    "engine.table_names()"
   ]
  },
  {
   "cell_type": "code",
   "execution_count": null,
   "metadata": {},
   "outputs": [],
   "source": [
    "DB_URL"
   ]
  },
  {
   "cell_type": "markdown",
   "metadata": {},
   "source": [
    "# Previous midterms"
   ]
  },
  {
   "cell_type": "markdown",
   "metadata": {},
   "source": [
    "> **Disclaimer**\n",
    ">\n",
    "> Downloaded from http://oxdia.com, which is in the questionable business of charing money for material which they did not create and do not own."
   ]
  },
  {
   "cell_type": "markdown",
   "metadata": {},
   "source": [
    "## Fall 2017 - Midterm Test (L0101)"
   ]
  },
  {
   "cell_type": "markdown",
   "metadata": {},
   "source": [
    "### Question 1"
   ]
  },
  {
   "cell_type": "markdown",
   "metadata": {},
   "source": [
    "(a) According to the schema, can a student take the same course more than once?"
   ]
  },
  {
   "cell_type": "code",
   "execution_count": null,
   "metadata": {
    "code_folding": [
     0
    ],
    "collapsed": true
   },
   "outputs": [],
   "source": [
    "#\n",
    "\n",
    "yes"
   ]
  },
  {
   "cell_type": "markdown",
   "metadata": {},
   "source": [
    "(b) Consider this constraint:\n",
    "\n",
    "![](tutorial_7/L0101-q1-b.png)\n",
    "\n",
    "Define an instance of Offering that violates the constraint."
   ]
  },
  {
   "cell_type": "markdown",
   "metadata": {
    "code_folding": [],
    "collapsed": true
   },
   "source": [
    "#\n",
    "\n",
    "oID | dept | cNum | term | instructor \n",
    "- | - | - | - | -\n",
    "o1 | CSC | 343 | termA | Craig\n",
    "o2 | CSC | 343 | termA | Horton\n",
    "o3 | CSC | 108 | termB | Craig\n",
    "o4 | CSC | 108 | termB | Horton"
   ]
  },
  {
   "cell_type": "markdown",
   "metadata": {
    "collapsed": true
   },
   "source": [
    "(c) Write the following constraint using relational algebra: No CSC course may count towards the breadth\n",
    "requirement (that is, have breadth = True) unless it is a 100-level course."
   ]
  },
  {
   "cell_type": "markdown",
   "metadata": {
    "code_folding": [],
    "collapsed": true
   },
   "source": [
    "#\n",
    "\n",
    "```\n",
    "\\select_{dept = 'CSC' and breadth and cNum > 199} Course = empty\n",
    "```"
   ]
  },
  {
   "cell_type": "markdown",
   "metadata": {
    "collapsed": true
   },
   "source": [
    "### Question 2"
   ]
  },
  {
   "cell_type": "markdown",
   "metadata": {
    "collapsed": true
   },
   "source": [
    "#### Write a query in relational algebra to find the sID of every student who has taken each CSC course that a has ever been offered."
   ]
  },
  {
   "cell_type": "markdown",
   "metadata": {},
   "source": [
    "Select all CSC courses that have ever been offered:"
   ]
  },
  {
   "cell_type": "markdown",
   "metadata": {},
   "source": [
    "```\n",
    "CSCCourses(dept, cnum) := \n",
    "    \\project_{dept, cnum}\n",
    "    \\select_{dept = 'CSC'}\n",
    "    Offering\n",
    "```"
   ]
  },
  {
   "cell_type": "markdown",
   "metadata": {
    "collapsed": true
   },
   "source": [
    "Select all courses that all students have taken:"
   ]
  },
  {
   "cell_type": "markdown",
   "metadata": {
    "collapsed": true
   },
   "source": [
    "```\n",
    "StudentTook(sid, dept, cNum) :=\n",
    "    \\project_{sid, dept, cNum}\n",
    "    (Took \\natural_join Offering)\n",
    "```"
   ]
  },
  {
   "cell_type": "markdown",
   "metadata": {},
   "source": [
    "Imagine that all students have taken every CSC course:"
   ]
  },
  {
   "cell_type": "markdown",
   "metadata": {},
   "source": [
    "```\n",
    "ImaginaryUniverse(sid, dept, cnum) :=\n",
    "    \\project_{sid} StudentTook\n",
    "    \\product\n",
    "    \\CSCCourses\n",
    "```"
   ]
  },
  {
   "cell_type": "markdown",
   "metadata": {},
   "source": [
    "Find all rows from `ImaginaryUniverse` which fall short of reality:"
   ]
  },
  {
   "cell_type": "markdown",
   "metadata": {},
   "source": [
    "```\n",
    "Missing := ImaginaryUniverse - StudentTook\n",
    "```"
   ]
  },
  {
   "cell_type": "markdown",
   "metadata": {},
   "source": [
    "Return all `sID`s that are not in `Missing`:"
   ]
  },
  {
   "cell_type": "markdown",
   "metadata": {},
   "source": [
    "```\n",
    "Answer(sid) := \n",
    "    (\\project_{sid} StudentTook) -\n",
    "    (\\project_{sid} Missing)\n",
    "```"
   ]
  },
  {
   "cell_type": "markdown",
   "metadata": {},
   "source": [
    "(Alternative way using division):"
   ]
  },
  {
   "cell_type": "markdown",
   "metadata": {},
   "source": [
    "```\n",
    "Answer(sid) = StudentTook \\divide CSCCourses\n",
    "```"
   ]
  },
  {
   "cell_type": "markdown",
   "metadata": {},
   "source": [
    "### Question 3"
   ]
  },
  {
   "cell_type": "markdown",
   "metadata": {},
   "source": [
    "#### Suppose we want to find the cNum of the first CSC course that was ever taught, that is, the one with the a minimum value for term. If there was a tie, we want to report the cNums of all the tied courses.\n",
    "\n",
    "The following query attempts to solve this. It is syntactically correct, but doesn’t always produce the right answer."
   ]
  },
  {
   "cell_type": "markdown",
   "metadata": {},
   "source": [
    "```\n",
    "CSCTerms(cNum) :=\n",
    "    \\project_{cNum}\n",
    "    \\select_{dept = 'csc'}\n",
    "    Offering\n",
    "\n",
    "NotFirst(cNum) :=\n",
    "    \\project_{c2.cnum} \\select_{c1.term < c2.term}\n",
    "    (\\rename_{t1} CSCTerms \\product \\rename_{t2} CSCTerms)\n",
    "\n",
    "Answer(cnum) = CSCTerms - NotFirst\n",
    "```"
   ]
  },
  {
   "cell_type": "code",
   "execution_count": null,
   "metadata": {
    "collapsed": true
   },
   "outputs": [],
   "source": []
  },
  {
   "cell_type": "markdown",
   "metadata": {},
   "source": [
    "### Question 4"
   ]
  },
  {
   "cell_type": "code",
   "execution_count": null,
   "metadata": {
    "collapsed": true
   },
   "outputs": [],
   "source": []
  },
  {
   "cell_type": "markdown",
   "metadata": {},
   "source": [
    "### Question 5"
   ]
  },
  {
   "cell_type": "code",
   "execution_count": null,
   "metadata": {
    "collapsed": true
   },
   "outputs": [],
   "source": []
  },
  {
   "cell_type": "markdown",
   "metadata": {},
   "source": [
    "### Question 6"
   ]
  },
  {
   "cell_type": "code",
   "execution_count": null,
   "metadata": {
    "code_folding": [
     0
    ]
   },
   "outputs": [],
   "source": [
    "# Create tables\n",
    "data = {\n",
    "    'a': ['sina'] * 2 + ['diane'] * 4 + ['michelle'] * 3,\n",
    "    'b': ['kanyewest', 'RonConwayFacts', 'LilaFontes', 'swcarpentry', 'mfeathers', 'sina', 'sina', 'diane', 'Jeff']\n",
    "}\n",
    "follows_df = pd.DataFrame(data, columns=['a', 'b'])\n",
    "follows_df.to_sql('follows', engine, index=False, if_exists='replace')\n",
    "\n",
    "\n",
    "data = {\n",
    "    'id': ['alan', 'sina', 'diane', 'michelle'], \n",
    "    'name': ['catman', 'superman', 'superwoman', 'rockstar'],\n",
    "    'location': ['Ottawa', None, 'Toronto', 'Montreal'],\n",
    "}\n",
    "profile_df = pd.DataFrame(data, columns=['id', 'name', 'location'])\n",
    "profile_df.to_sql('profile', engine, index=False, if_exists='replace')\n",
    "\n",
    "\n",
    "data = {\n",
    "    'id': [123, 125, 126, 128, 476, 553],\n",
    "    'userid': ['alan'] * 4 + ['sina', 'diane'],\n",
    "    'content': ['hellow twitter', 'bye twitter', 'hellow twitter', 'bye twitter', 'hellow twitter', 'hellow twitter'],\n",
    "}\n",
    "profile_df = pd.DataFrame(data, columns=['id', 'userid', 'content'])\n",
    "profile_df.to_sql('tweets', engine, index=False, if_exists='replace')"
   ]
  },
  {
   "cell_type": "code",
   "execution_count": 29,
   "metadata": {},
   "outputs": [
    {
     "data": {
      "text/html": [
       "<div>\n",
       "<style>\n",
       "    .dataframe thead tr:only-child th {\n",
       "        text-align: right;\n",
       "    }\n",
       "\n",
       "    .dataframe thead th {\n",
       "        text-align: left;\n",
       "    }\n",
       "\n",
       "    .dataframe tbody tr th {\n",
       "        vertical-align: top;\n",
       "    }\n",
       "</style>\n",
       "<table border=\"1\" class=\"dataframe\">\n",
       "  <thead>\n",
       "    <tr style=\"text-align: right;\">\n",
       "      <th></th>\n",
       "      <th>a</th>\n",
       "      <th>b</th>\n",
       "    </tr>\n",
       "  </thead>\n",
       "  <tbody>\n",
       "    <tr>\n",
       "      <th>0</th>\n",
       "      <td>sina</td>\n",
       "      <td>kanyewest</td>\n",
       "    </tr>\n",
       "    <tr>\n",
       "      <th>1</th>\n",
       "      <td>sina</td>\n",
       "      <td>RonConwayFacts</td>\n",
       "    </tr>\n",
       "    <tr>\n",
       "      <th>2</th>\n",
       "      <td>diane</td>\n",
       "      <td>LilaFontes</td>\n",
       "    </tr>\n",
       "    <tr>\n",
       "      <th>3</th>\n",
       "      <td>diane</td>\n",
       "      <td>swcarpentry</td>\n",
       "    </tr>\n",
       "    <tr>\n",
       "      <th>4</th>\n",
       "      <td>diane</td>\n",
       "      <td>mfeathers</td>\n",
       "    </tr>\n",
       "    <tr>\n",
       "      <th>5</th>\n",
       "      <td>diane</td>\n",
       "      <td>sina</td>\n",
       "    </tr>\n",
       "    <tr>\n",
       "      <th>6</th>\n",
       "      <td>michelle</td>\n",
       "      <td>sina</td>\n",
       "    </tr>\n",
       "    <tr>\n",
       "      <th>7</th>\n",
       "      <td>michelle</td>\n",
       "      <td>diane</td>\n",
       "    </tr>\n",
       "    <tr>\n",
       "      <th>8</th>\n",
       "      <td>michelle</td>\n",
       "      <td>Jeff</td>\n",
       "    </tr>\n",
       "  </tbody>\n",
       "</table>\n",
       "</div>"
      ],
      "text/plain": [
       "          a               b\n",
       "0      sina       kanyewest\n",
       "1      sina  RonConwayFacts\n",
       "2     diane      LilaFontes\n",
       "3     diane     swcarpentry\n",
       "4     diane       mfeathers\n",
       "5     diane            sina\n",
       "6  michelle            sina\n",
       "7  michelle           diane\n",
       "8  michelle            Jeff"
      ]
     },
     "metadata": {},
     "output_type": "display_data"
    }
   ],
   "source": [
    "%%sql\n",
    "select * from follows;"
   ]
  },
  {
   "cell_type": "code",
   "execution_count": 30,
   "metadata": {},
   "outputs": [
    {
     "data": {
      "text/html": [
       "<div>\n",
       "<style>\n",
       "    .dataframe thead tr:only-child th {\n",
       "        text-align: right;\n",
       "    }\n",
       "\n",
       "    .dataframe thead th {\n",
       "        text-align: left;\n",
       "    }\n",
       "\n",
       "    .dataframe tbody tr th {\n",
       "        vertical-align: top;\n",
       "    }\n",
       "</style>\n",
       "<table border=\"1\" class=\"dataframe\">\n",
       "  <thead>\n",
       "    <tr style=\"text-align: right;\">\n",
       "      <th></th>\n",
       "      <th>id</th>\n",
       "      <th>name</th>\n",
       "      <th>location</th>\n",
       "    </tr>\n",
       "  </thead>\n",
       "  <tbody>\n",
       "    <tr>\n",
       "      <th>0</th>\n",
       "      <td>alan</td>\n",
       "      <td>catman</td>\n",
       "      <td>Ottawa</td>\n",
       "    </tr>\n",
       "    <tr>\n",
       "      <th>1</th>\n",
       "      <td>sina</td>\n",
       "      <td>superman</td>\n",
       "      <td>None</td>\n",
       "    </tr>\n",
       "    <tr>\n",
       "      <th>2</th>\n",
       "      <td>diane</td>\n",
       "      <td>superwoman</td>\n",
       "      <td>Toronto</td>\n",
       "    </tr>\n",
       "    <tr>\n",
       "      <th>3</th>\n",
       "      <td>michelle</td>\n",
       "      <td>rockstar</td>\n",
       "      <td>Montreal</td>\n",
       "    </tr>\n",
       "  </tbody>\n",
       "</table>\n",
       "</div>"
      ],
      "text/plain": [
       "         id        name  location\n",
       "0      alan      catman    Ottawa\n",
       "1      sina    superman      None\n",
       "2     diane  superwoman   Toronto\n",
       "3  michelle    rockstar  Montreal"
      ]
     },
     "metadata": {},
     "output_type": "display_data"
    }
   ],
   "source": [
    "%%sql\n",
    "select * from profile;"
   ]
  },
  {
   "cell_type": "code",
   "execution_count": 31,
   "metadata": {},
   "outputs": [
    {
     "data": {
      "text/html": [
       "<div>\n",
       "<style>\n",
       "    .dataframe thead tr:only-child th {\n",
       "        text-align: right;\n",
       "    }\n",
       "\n",
       "    .dataframe thead th {\n",
       "        text-align: left;\n",
       "    }\n",
       "\n",
       "    .dataframe tbody tr th {\n",
       "        vertical-align: top;\n",
       "    }\n",
       "</style>\n",
       "<table border=\"1\" class=\"dataframe\">\n",
       "  <thead>\n",
       "    <tr style=\"text-align: right;\">\n",
       "      <th></th>\n",
       "      <th>id</th>\n",
       "      <th>userid</th>\n",
       "      <th>content</th>\n",
       "    </tr>\n",
       "  </thead>\n",
       "  <tbody>\n",
       "    <tr>\n",
       "      <th>0</th>\n",
       "      <td>123</td>\n",
       "      <td>alan</td>\n",
       "      <td>hellow twitter</td>\n",
       "    </tr>\n",
       "    <tr>\n",
       "      <th>1</th>\n",
       "      <td>125</td>\n",
       "      <td>alan</td>\n",
       "      <td>bye twitter</td>\n",
       "    </tr>\n",
       "    <tr>\n",
       "      <th>2</th>\n",
       "      <td>126</td>\n",
       "      <td>alan</td>\n",
       "      <td>hellow twitter</td>\n",
       "    </tr>\n",
       "    <tr>\n",
       "      <th>3</th>\n",
       "      <td>128</td>\n",
       "      <td>alan</td>\n",
       "      <td>bye twitter</td>\n",
       "    </tr>\n",
       "    <tr>\n",
       "      <th>4</th>\n",
       "      <td>476</td>\n",
       "      <td>sina</td>\n",
       "      <td>hellow twitter</td>\n",
       "    </tr>\n",
       "    <tr>\n",
       "      <th>5</th>\n",
       "      <td>553</td>\n",
       "      <td>diane</td>\n",
       "      <td>hellow twitter</td>\n",
       "    </tr>\n",
       "  </tbody>\n",
       "</table>\n",
       "</div>"
      ],
      "text/plain": [
       "    id userid         content\n",
       "0  123   alan  hellow twitter\n",
       "1  125   alan     bye twitter\n",
       "2  126   alan  hellow twitter\n",
       "3  128   alan     bye twitter\n",
       "4  476   sina  hellow twitter\n",
       "5  553  diane  hellow twitter"
      ]
     },
     "metadata": {},
     "output_type": "display_data"
    }
   ],
   "source": [
    "%%sql\n",
    "select * from tweets;"
   ]
  },
  {
   "cell_type": "code",
   "execution_count": 32,
   "metadata": {},
   "outputs": [
    {
     "data": {
      "text/html": [
       "<div>\n",
       "<style>\n",
       "    .dataframe thead tr:only-child th {\n",
       "        text-align: right;\n",
       "    }\n",
       "\n",
       "    .dataframe thead th {\n",
       "        text-align: left;\n",
       "    }\n",
       "\n",
       "    .dataframe tbody tr th {\n",
       "        vertical-align: top;\n",
       "    }\n",
       "</style>\n",
       "<table border=\"1\" class=\"dataframe\">\n",
       "  <thead>\n",
       "    <tr style=\"text-align: right;\">\n",
       "      <th></th>\n",
       "      <th>count</th>\n",
       "    </tr>\n",
       "  </thead>\n",
       "  <tbody>\n",
       "    <tr>\n",
       "      <th>0</th>\n",
       "      <td>10</td>\n",
       "    </tr>\n",
       "  </tbody>\n",
       "</table>\n",
       "</div>"
      ],
      "text/plain": [
       "   count\n",
       "0     10"
      ]
     },
     "metadata": {},
     "output_type": "display_data"
    }
   ],
   "source": [
    "%%sql\n",
    "select count(*)\n",
    "from profile left join follows\n",
    "    on a = id;"
   ]
  },
  {
   "cell_type": "code",
   "execution_count": null,
   "metadata": {},
   "outputs": [],
   "source": [
    "1 + 2 + 4 + 3"
   ]
  },
  {
   "cell_type": "code",
   "execution_count": 33,
   "metadata": {},
   "outputs": [
    {
     "data": {
      "text/html": [
       "<div>\n",
       "<style>\n",
       "    .dataframe thead tr:only-child th {\n",
       "        text-align: right;\n",
       "    }\n",
       "\n",
       "    .dataframe thead th {\n",
       "        text-align: left;\n",
       "    }\n",
       "\n",
       "    .dataframe tbody tr th {\n",
       "        vertical-align: top;\n",
       "    }\n",
       "</style>\n",
       "<table border=\"1\" class=\"dataframe\">\n",
       "  <thead>\n",
       "    <tr style=\"text-align: right;\">\n",
       "      <th></th>\n",
       "      <th>id</th>\n",
       "      <th>number</th>\n",
       "    </tr>\n",
       "  </thead>\n",
       "  <tbody>\n",
       "    <tr>\n",
       "      <th>0</th>\n",
       "      <td>diane</td>\n",
       "      <td>1</td>\n",
       "    </tr>\n",
       "  </tbody>\n",
       "</table>\n",
       "</div>"
      ],
      "text/plain": [
       "      id  number\n",
       "0  diane       1"
      ]
     },
     "metadata": {},
     "output_type": "display_data"
    }
   ],
   "source": [
    "%%sql\n",
    "SELECT P.id, count(T.content) AS number\n",
    "FROM Profile P JOIN Tweets t\n",
    "    ON T.userid = P.id AND P.location='Toronto'\n",
    "GROUP BY(p.id);"
   ]
  },
  {
   "cell_type": "markdown",
   "metadata": {},
   "source": [
    "profile:\n",
    "\n",
    "id | name | location\n",
    "-- | ---- | --------\n",
    "diane | superwoman | Toronto\n",
    "\n",
    "tweets:\n",
    "\n",
    "id | userid | content\n",
    "--- | ----- | -------\n",
    "553 | diane | hellow twitter"
   ]
  },
  {
   "cell_type": "code",
   "execution_count": 34,
   "metadata": {},
   "outputs": [
    {
     "name": "stdout",
     "output_type": "stream",
     "text": [
      "(psycopg2.ProgrammingError) column \"profile.id\" must appear in the GROUP BY clause or be used in an aggregate function\n",
      "LINE 1: SELECT id, count(b) AS followers\n",
      "               ^\n",
      " [SQL: 'SELECT id, count(b) AS followers\\nFROM Profile JOIN Follows\\nON a = id;']\n"
     ]
    }
   ],
   "source": [
    "%%sql\n",
    "SELECT id, count(b) AS followers\n",
    "FROM Profile JOIN Follows\n",
    "ON a = id;"
   ]
  },
  {
   "cell_type": "markdown",
   "metadata": {},
   "source": [
    "id | followers\n",
    "-- | ---------\n"
   ]
  },
  {
   "cell_type": "code",
   "execution_count": null,
   "metadata": {},
   "outputs": [],
   "source": [
    "%%sql\n",
    "select location from Follows, Profile\n",
    "where id = a and b = 'sina';"
   ]
  },
  {
   "cell_type": "markdown",
   "metadata": {},
   "source": [
    "follows:\n",
    "\n",
    "a | b\n",
    "- | -\n",
    "diane | sina\n",
    "michelle | sina\n",
    "\n",
    "profile:\n",
    "\n",
    "id | name | location\n",
    "-- | ---- | --------\n",
    "diane | superwoman | Toronto\n",
    "michelle | rockstar | Montreal\n",
    "\n",
    "after select:\n",
    "\n",
    "a | b | id | name | location\n",
    "- | - | -- | ---- | --------\n",
    "diane | sina | diane | superwoman | Toronto\n",
    "michelle | sina | michelle | rockstar | Montreal\n",
    "\n",
    "after project:\n",
    "\n",
    "location |\n",
    "-------- |\n",
    "Toronto  |\n",
    "Montreal |"
   ]
  },
  {
   "cell_type": "code",
   "execution_count": null,
   "metadata": {
    "collapsed": true
   },
   "outputs": [],
   "source": []
  }
 ],
 "metadata": {
  "anaconda-cloud": {},
  "kernelspec": {
   "display_name": "Python [default]",
   "language": "python",
   "name": "python3"
  },
  "language_info": {
   "codemirror_mode": {
    "name": "ipython",
    "version": 3
   },
   "file_extension": ".py",
   "mimetype": "text/x-python",
   "name": "python",
   "nbconvert_exporter": "python",
   "pygments_lexer": "ipython3",
   "version": "3.6.5"
  },
  "toc": {
   "base_numbering": 1,
   "colors": {
    "hover_highlight": "#DAA520",
    "navigate_num": "#000000",
    "navigate_text": "#333333",
    "running_highlight": "#FF0000",
    "selected_highlight": "#FFD700",
    "sidebar_border": "#EEEEEE",
    "wrapper_background": "#FFFFFF"
   },
   "moveMenuLeft": true,
   "nav_menu": {
    "height": "13px",
    "width": "251px"
   },
   "navigate_menu": true,
   "number_sections": false,
   "sideBar": true,
   "skip_h1_title": false,
   "threshold": 4,
   "title_cell": "Table of Contents",
   "title_sidebar": "Contents",
   "toc_cell": false,
   "toc_position": {
    "height": "508px",
    "left": "0px",
    "right": "20px",
    "top": "66px",
    "width": "26px"
   },
   "toc_section_display": true,
   "toc_window_display": true,
   "widenNotebook": false
  }
 },
 "nbformat": 4,
 "nbformat_minor": 2
}
