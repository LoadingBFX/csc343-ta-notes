{
 "cells": [
  {
   "cell_type": "markdown",
   "metadata": {},
   "source": [
    "# Overview"
   ]
  },
  {
   "cell_type": "markdown",
   "metadata": {},
   "source": [
    "# Imports"
   ]
  },
  {
   "cell_type": "code",
   "execution_count": 1,
   "metadata": {},
   "outputs": [],
   "source": [
    "import pandas as pd\n",
    "import sqlalchemy as sa"
   ]
  },
  {
   "cell_type": "code",
   "execution_count": 2,
   "metadata": {},
   "outputs": [
    {
     "data": {
      "application/javascript": [
       "// Source: https://github.com/jupyter/notebook/issues/2453#issuecomment-298019101\n",
       "IPython.CodeCell.options_default.highlight_modes['magic_text/x-mssql'] = {'reg':[/^%%sql/]} ;\n",
       "console.log('AAAAA');\n",
       "IPython.notebook.events.one('kernel_ready.Kernel', function(){\n",
       "    console.log('BBBBB');\n",
       "    IPython.notebook.get_cells().map(function(cell){\n",
       "        if (cell.cell_type == 'code'){ cell.auto_highlight(); } }) ;\n",
       "});"
      ],
      "text/plain": [
       "<IPython.core.display.Javascript object>"
      ]
     },
     "metadata": {},
     "output_type": "display_data"
    }
   ],
   "source": [
    "%run sql_magic.ipynb"
   ]
  },
  {
   "cell_type": "markdown",
   "metadata": {},
   "source": [
    "# Start database"
   ]
  },
  {
   "cell_type": "code",
   "execution_count": 7,
   "metadata": {},
   "outputs": [
    {
     "name": "stdout",
     "output_type": "stream",
     "text": [
      "Running: 'pg_ctl -D pgdata status'...\n",
      "Running: 'psql postgres://postgres:@localhost:5432/postgres -f ../data/coursesDDL.txt'...\n",
      "psql:../data/coursesDDL.txt:1: NOTICE:  drop cascades to 8 other objects\n",
      "DETAIL:  drop cascades to type university.grade\n",
      "drop cascades to type university.cgpa\n",
      "drop cascades to type university.campus\n",
      "drop cascades to type university.department\n",
      "drop cascades to table university.student\n",
      "drop cascades to table university.course\n",
      "drop cascades to table university.offering\n",
      "drop cascades to table university.took\n",
      "Running: 'psql postgres://postgres:@localhost:5432/postgres -f ../data/coursesData.txt'...\n",
      "\n"
     ]
    }
   ],
   "source": [
    "%run start_db.ipynb"
   ]
  },
  {
   "cell_type": "code",
   "execution_count": 8,
   "metadata": {},
   "outputs": [],
   "source": [
    "engine = sa.create_engine(DB_URL, connect_args={'options': '-csearch_path=University'})"
   ]
  },
  {
   "cell_type": "code",
   "execution_count": 9,
   "metadata": {
    "scrolled": false
   },
   "outputs": [
    {
     "data": {
      "text/plain": [
       "['student', 'course', 'offering', 'took']"
      ]
     },
     "execution_count": 9,
     "metadata": {},
     "output_type": "execute_result"
    }
   ],
   "source": [
    "engine.table_names()"
   ]
  },
  {
   "cell_type": "code",
   "execution_count": 10,
   "metadata": {},
   "outputs": [
    {
     "data": {
      "text/plain": [
       "'postgres://postgres:@localhost:5432/postgres'"
      ]
     },
     "execution_count": 10,
     "metadata": {},
     "output_type": "execute_result"
    }
   ],
   "source": [
    "DB_URL"
   ]
  },
  {
   "cell_type": "code",
   "execution_count": null,
   "metadata": {},
   "outputs": [],
   "source": [
    "import time\n",
    "for i in range(1_000_000):\n",
    "    time.sleep(1)"
   ]
  },
  {
   "cell_type": "markdown",
   "metadata": {},
   "source": [
    "# Exercises"
   ]
  },
  {
   "cell_type": "markdown",
   "metadata": {},
   "source": [
    "## SQL Data Definition Language: Solutions"
   ]
  },
  {
   "cell_type": "markdown",
   "metadata": {},
   "source": [
    "### 1. Which of the following table definitions are valid? Where invalid, explain why."
   ]
  },
  {
   "cell_type": "code",
   "execution_count": null,
   "metadata": {},
   "outputs": [],
   "source": [
    "%%sql\n",
    "drop table if exists Stuff1;\n",
    "\n",
    "create table Stuff1 (\n",
    "    name text primary key,\n",
    "    number int,\n",
    "    rating float not null\n",
    ");"
   ]
  },
  {
   "cell_type": "code",
   "execution_count": null,
   "metadata": {
    "scrolled": true
   },
   "outputs": [],
   "source": [
    "!psql {DB_URL} -c \"\\d+ University.Stuff1;\""
   ]
  },
  {
   "cell_type": "code",
   "execution_count": null,
   "metadata": {},
   "outputs": [],
   "source": [
    "%%sql\n",
    "create table Stuff2 (\n",
    "    name varchar(25) primary key,\n",
    "    number int primary key,\n",
    "    rating float\n",
    ");"
   ]
  },
  {
   "cell_type": "code",
   "execution_count": null,
   "metadata": {},
   "outputs": [],
   "source": [
    "!psql {DB_URL} -c \"\\d+ University.Stuff2;\""
   ]
  },
  {
   "cell_type": "code",
   "execution_count": null,
   "metadata": {},
   "outputs": [],
   "source": [
    "%%sql\n",
    "create table Stuff3 (\n",
    "    name text primary key,\n",
    "    number int unique default 0,\n",
    "    rating float\n",
    ");"
   ]
  },
  {
   "cell_type": "code",
   "execution_count": null,
   "metadata": {
    "scrolled": false
   },
   "outputs": [],
   "source": [
    "!psql {DB_URL} -c \"\\d+ University.Stuff3;\""
   ]
  },
  {
   "cell_type": "code",
   "execution_count": null,
   "metadata": {},
   "outputs": [],
   "source": [
    "%%sql\n",
    "create table Stuff4 (\n",
    "    name char(30) unique,\n",
    "    number int unique,\n",
    "    rating real\n",
    ");"
   ]
  },
  {
   "cell_type": "markdown",
   "metadata": {},
   "source": [
    "https://www.postgresql.org/docs/9.6/static/datatype.html"
   ]
  },
  {
   "cell_type": "code",
   "execution_count": null,
   "metadata": {},
   "outputs": [],
   "source": [
    "!psql {DB_URL} -c \"\\d+ University.Stuff4;\""
   ]
  },
  {
   "cell_type": "markdown",
   "metadata": {},
   "source": [
    "### 2. Suppose we have defined this table:"
   ]
  },
  {
   "cell_type": "code",
   "execution_count": null,
   "metadata": {},
   "outputs": [],
   "source": [
    "%%sql\n",
    "drop table if exists fluff;\n",
    "\n",
    "create table Fluff (\n",
    "    this int,\n",
    "    that int,\n",
    "    other text unique,\n",
    "    primary key (this, that)\n",
    ");"
   ]
  },
  {
   "cell_type": "code",
   "execution_count": null,
   "metadata": {},
   "outputs": [],
   "source": [
    "!psql {DB_URL} -c \"\\d+ University.Fluff;\""
   ]
  },
  {
   "cell_type": "code",
   "execution_count": null,
   "metadata": {},
   "outputs": [],
   "source": [
    "%%sql\n",
    "-- 1\n",
    "truncate fluff;\n",
    "insert into Fluff values (1, 2, 'my'), (1, 2, 'night');\n",
    "select * from fluff;"
   ]
  },
  {
   "cell_type": "code",
   "execution_count": null,
   "metadata": {},
   "outputs": [],
   "source": [
    "%%sql\n",
    "-- 2\n",
    "truncate fluff;\n",
    "insert into Fluff values (11, 22, 'twinkle'), (33, 44, 'twinkle');\n",
    "select * from fluff;"
   ]
  },
  {
   "cell_type": "code",
   "execution_count": null,
   "metadata": {},
   "outputs": [],
   "source": [
    "%%sql\n",
    "-- 3\n",
    "truncate fluff;\n",
    "insert into Fluff values (100, 5, 'night'), (100, 10, 'my');\n",
    "select * from fluff;"
   ]
  },
  {
   "cell_type": "code",
   "execution_count": null,
   "metadata": {},
   "outputs": [],
   "source": [
    "%%sql\n",
    "-- 4\n",
    "truncate fluff;\n",
    "insert into Fluff values (null, null, 'oh');\n",
    "select * from fluff;"
   ]
  },
  {
   "cell_type": "code",
   "execution_count": null,
   "metadata": {},
   "outputs": [],
   "source": [
    "%%sql\n",
    "-- 5\n",
    "truncate fluff;\n",
    "insert into Fluff values (5, null, 'uh');\n",
    "select * from fluff;"
   ]
  },
  {
   "cell_type": "code",
   "execution_count": null,
   "metadata": {},
   "outputs": [],
   "source": [
    "%%sql\n",
    "-- 6\n",
    "truncate fluff;\n",
    "insert into Fluff values (null, 20, 'a'), (null, 21, 'b');\n",
    "select * from fluff;"
   ]
  },
  {
   "cell_type": "code",
   "execution_count": null,
   "metadata": {},
   "outputs": [],
   "source": [
    "%%sql\n",
    "-- 7\n",
    "truncate fluff;\n",
    "insert into Fluff values (80, 81, null);\n",
    "select * from fluff;"
   ]
  },
  {
   "cell_type": "code",
   "execution_count": null,
   "metadata": {},
   "outputs": [],
   "source": [
    "%%sql\n",
    "-- 8\n",
    "truncate fluff;\n",
    "insert into Fluff values (90, 91, null), (92, 93, null);\n",
    "select * from fluff;"
   ]
  },
  {
   "cell_type": "markdown",
   "metadata": {},
   "source": [
    "### 3. Again, suppose we have defined this table:"
   ]
  },
  {
   "cell_type": "code",
   "execution_count": null,
   "metadata": {},
   "outputs": [],
   "source": [
    "%%sql\n",
    "drop table if exists fluff cascade;\n",
    "\n",
    "create table Fluff (\n",
    "    this int,\n",
    "    that int,\n",
    "    other text unique,\n",
    "    primary key (this, that)\n",
    ");"
   ]
  },
  {
   "cell_type": "code",
   "execution_count": null,
   "metadata": {},
   "outputs": [],
   "source": [
    "!psql {DB_URL} -c \"\\d+ University.Fluff;\""
   ]
  },
  {
   "cell_type": "code",
   "execution_count": null,
   "metadata": {},
   "outputs": [],
   "source": [
    "%%sql\n",
    "drop table if exists fluff cascade;\n",
    "\n",
    "create table Fluff (\n",
    "    this int,\n",
    "    that int,\n",
    "    other int unique,\n",
    "    primary key (this, that)\n",
    ");"
   ]
  },
  {
   "cell_type": "code",
   "execution_count": null,
   "metadata": {},
   "outputs": [],
   "source": []
  },
  {
   "cell_type": "code",
   "execution_count": null,
   "metadata": {},
   "outputs": [],
   "source": [
    "%%sql\n",
    "drop table if exists Nonsense1;\n",
    "\n",
    "create table Nonsense1 (\n",
    "    a int,\n",
    "    b int,\n",
    "    foreign key (b) references Fluff(this)\n",
    ");"
   ]
  },
  {
   "cell_type": "markdown",
   "metadata": {},
   "source": [
    "https://stackoverflow.com/questions/588741/can-a-foreign-key-reference-a-non-unique-index"
   ]
  },
  {
   "cell_type": "code",
   "execution_count": null,
   "metadata": {},
   "outputs": [],
   "source": []
  },
  {
   "cell_type": "code",
   "execution_count": null,
   "metadata": {},
   "outputs": [],
   "source": [
    "%%sql\n",
    "drop table if exists Nonsense2;\n",
    "\n",
    "create table Nonsense2 (\n",
    "    a int,\n",
    "    b text references Fluff(other)\n",
    ");"
   ]
  },
  {
   "cell_type": "code",
   "execution_count": null,
   "metadata": {},
   "outputs": [],
   "source": [
    "!psql {DB_URL} -c \"\\d+ University.Nonsense2;\""
   ]
  },
  {
   "cell_type": "code",
   "execution_count": null,
   "metadata": {},
   "outputs": [],
   "source": [
    "%%sql\n",
    "drop table if exists Nonsense2;\n",
    "\n",
    "create table Nonsense2 (\n",
    "    a int,\n",
    "    b text,\n",
    "    foreign key (b) references Fluff(other)\n",
    ");"
   ]
  },
  {
   "cell_type": "code",
   "execution_count": null,
   "metadata": {},
   "outputs": [],
   "source": [
    "!psql {DB_URL} -c \"\\d+ University.Nonsense2;\""
   ]
  },
  {
   "cell_type": "code",
   "execution_count": null,
   "metadata": {},
   "outputs": [],
   "source": []
  },
  {
   "cell_type": "code",
   "execution_count": null,
   "metadata": {},
   "outputs": [],
   "source": [
    "%%sql\n",
    "drop table if exists Nonsense3;\n",
    "\n",
    "create table Nonsense3 (\n",
    "    a int,\n",
    "    b int,\n",
    "    c int,\n",
    "    foreign key (b, c) references Fluff\n",
    ");"
   ]
  },
  {
   "cell_type": "code",
   "execution_count": null,
   "metadata": {},
   "outputs": [],
   "source": [
    "!psql {DB_URL} -c \"\\d+ University.Nonsense3;\""
   ]
  },
  {
   "cell_type": "code",
   "execution_count": null,
   "metadata": {},
   "outputs": [],
   "source": []
  },
  {
   "cell_type": "code",
   "execution_count": null,
   "metadata": {},
   "outputs": [],
   "source": [
    "%%sql\n",
    "drop table if exists Nonsense4;\n",
    "\n",
    "create table Nonsense4 (\n",
    "    a int references Fluff(blah),\n",
    "    b int\n",
    ");"
   ]
  },
  {
   "cell_type": "markdown",
   "metadata": {},
   "source": [
    "### 4. Can you think of any other ways that an attempt to define a foreign key could fail?"
   ]
  },
  {
   "cell_type": "code",
   "execution_count": null,
   "metadata": {
    "collapsed": true
   },
   "outputs": [],
   "source": []
  },
  {
   "cell_type": "markdown",
   "metadata": {},
   "source": [
    "# Scrap"
   ]
  },
  {
   "cell_type": "code",
   "execution_count": null,
   "metadata": {},
   "outputs": [],
   "source": [
    "%%bash -s {DB_URL}\n",
    "psql $1 << EOF\n",
    "set search_path to university;\n",
    "\\d+ university.stuff1;\n",
    "EOF"
   ]
  },
  {
   "cell_type": "code",
   "execution_count": null,
   "metadata": {
    "collapsed": true
   },
   "outputs": [],
   "source": []
  }
 ],
 "metadata": {
  "anaconda-cloud": {},
  "kernelspec": {
   "display_name": "Python 3",
   "language": "python",
   "name": "python3"
  },
  "language_info": {
   "codemirror_mode": {
    "name": "ipython",
    "version": 3
   },
   "file_extension": ".py",
   "mimetype": "text/x-python",
   "name": "python",
   "nbconvert_exporter": "python",
   "pygments_lexer": "ipython3",
   "version": "3.6.6"
  },
  "toc": {
   "base_numbering": 1,
   "nav_menu": {
    "height": "13px",
    "width": "251px"
   },
   "number_sections": false,
   "sideBar": false,
   "skip_h1_title": false,
   "title_cell": "Table of Contents",
   "title_sidebar": "Contents",
   "toc_cell": false,
   "toc_position": {
    "height": "542px",
    "left": "339px",
    "right": "20px",
    "top": "138px",
    "width": "278px"
   },
   "toc_section_display": true,
   "toc_window_display": false
  }
 },
 "nbformat": 4,
 "nbformat_minor": 2
}
