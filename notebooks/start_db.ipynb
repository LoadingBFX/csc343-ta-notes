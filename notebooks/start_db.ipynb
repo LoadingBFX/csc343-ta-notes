{
 "cells": [
  {
   "cell_type": "code",
   "execution_count": 89,
   "metadata": {},
   "outputs": [],
   "source": [
    "import os.path as op\n",
    "import shlex\n",
    "import subprocess\n",
    "import time"
   ]
  },
  {
   "cell_type": "markdown",
   "metadata": {},
   "source": [
    "# Configure database"
   ]
  },
  {
   "cell_type": "code",
   "execution_count": 90,
   "metadata": {
    "code_folding": []
   },
   "outputs": [],
   "source": [
    "DB_URL = \"postgres://postgres:@localhost:5432/postgres\""
   ]
  },
  {
   "cell_type": "code",
   "execution_count": 91,
   "metadata": {},
   "outputs": [],
   "source": [
    "def run(command):\n",
    "    print(f\"Running: '{command}'...\")\n",
    "    proc = subprocess.run(\n",
    "        shlex.split(command),\n",
    "        stdout=subprocess.PIPE,\n",
    "        stderr=subprocess.PIPE,\n",
    "        universal_newlines=True,\n",
    "    )\n",
    "    return proc"
   ]
  },
  {
   "cell_type": "markdown",
   "metadata": {},
   "source": [
    "## Start database"
   ]
  },
  {
   "cell_type": "code",
   "execution_count": 92,
   "metadata": {},
   "outputs": [],
   "source": [
    "if not op.isdir(\"pgdata\"):\n",
    "    proc = run(\"initdb -D pgdata -U postgres\")\n",
    "    print(proc.stdout.strip())\n",
    "    print(proc.stderr.strip())\n",
    "    assert proc.returncode == 0"
   ]
  },
  {
   "cell_type": "code",
   "execution_count": 93,
   "metadata": {},
   "outputs": [],
   "source": [
    "if \"no server running\" in run(\"pg_ctl -D pgdata status\").stdout:\n",
    "    proc = run(\"pg_ctl -D pgdata -l postgres.log start\")\n",
    "    print(proc.stdout.strip())\n",
    "    print(proc.stderr.strip())\n",
    "    assert proc.returncode == 0\n",
    "    time.sleep(5)"
   ]
  },
  {
   "cell_type": "markdown",
   "metadata": {},
   "source": [
    "## Load data into `university` schema"
   ]
  },
  {
   "cell_type": "code",
   "execution_count": 94,
   "metadata": {},
   "outputs": [
    {
     "name": "stdout",
     "output_type": "stream",
     "text": [
      "psql:../data/coursesDDL.txt:1: NOTICE:  drop cascades to 8 other objects\n",
      "DETAIL:  drop cascades to type university.grade\n",
      "drop cascades to type university.cgpa\n",
      "drop cascades to type university.campus\n",
      "drop cascades to type university.department\n",
      "drop cascades to table university.student\n",
      "drop cascades to table university.course\n",
      "drop cascades to table university.offering\n",
      "drop cascades to table university.took\n"
     ]
    }
   ],
   "source": [
    "proc = run(f\"psql {DB_URL} -f ../data/coursesDDL.txt\")\n",
    "print(proc.stderr.strip())"
   ]
  },
  {
   "cell_type": "code",
   "execution_count": 95,
   "metadata": {},
   "outputs": [
    {
     "name": "stdout",
     "output_type": "stream",
     "text": [
      "\n"
     ]
    }
   ],
   "source": [
    "proc = run(f\"psql {DB_URL} -f ../data/coursesData.txt\")\n",
    "print(proc.stderr.strip())"
   ]
  },
  {
   "cell_type": "code",
   "execution_count": null,
   "metadata": {},
   "outputs": [],
   "source": []
  }
 ],
 "metadata": {
  "kernelspec": {
   "display_name": "Python 3",
   "language": "python",
   "name": "python3"
  },
  "language_info": {
   "codemirror_mode": {
    "name": "ipython",
    "version": 3
   },
   "file_extension": ".py",
   "mimetype": "text/x-python",
   "name": "python",
   "nbconvert_exporter": "python",
   "pygments_lexer": "ipython3",
   "version": "3.6.6"
  },
  "toc": {
   "base_numbering": 1,
   "nav_menu": {},
   "number_sections": false,
   "sideBar": false,
   "skip_h1_title": false,
   "title_cell": "Table of Contents",
   "title_sidebar": "Contents",
   "toc_cell": false,
   "toc_position": {
    "height": "397px",
    "left": "10px",
    "top": "150px",
    "width": "321px"
   },
   "toc_section_display": true,
   "toc_window_display": true
  }
 },
 "nbformat": 4,
 "nbformat_minor": 2
}
