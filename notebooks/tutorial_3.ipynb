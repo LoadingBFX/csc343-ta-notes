{
 "cells": [
  {
   "cell_type": "markdown",
   "metadata": {},
   "source": [
    "# Introduction"
   ]
  },
  {
   "cell_type": "markdown",
   "metadata": {},
   "source": [
    "## Useful resources\n",
    "\n",
    "\n",
    "### Stanford Databases Course\n",
    "\n",
    "- https://lagunita.stanford.edu"
   ]
  },
  {
   "cell_type": "markdown",
   "metadata": {},
   "source": [
    "# Slides\n",
    "\n",
    "..."
   ]
  },
  {
   "cell_type": "markdown",
   "metadata": {
    "collapsed": true
   },
   "source": [
    "# Exercises"
   ]
  },
  {
   "cell_type": "markdown",
   "metadata": {
    "collapsed": true
   },
   "source": [
    "## Relational Algebra Exercises"
   ]
  },
  {
   "cell_type": "markdown",
   "metadata": {},
   "source": [
    "### Schema\n",
    "\n",
    "![](tutorial_3/rae-schema.png)"
   ]
  },
  {
   "cell_type": "markdown",
   "metadata": {},
   "source": [
    "### Integrity constraints"
   ]
  },
  {
   "cell_type": "markdown",
   "metadata": {},
   "source": [
    "<img src=\"tutorial_3/rae-integrity.png\" width=\"80%\" align=\"left\">"
   ]
  },
  {
   "cell_type": "markdown",
   "metadata": {},
   "source": [
    "**1. Courses at the 400-level cannot count for breadth.**"
   ]
  },
  {
   "cell_type": "code",
   "execution_count": null,
   "metadata": {
    "code_folding": [],
    "collapsed": true
   },
   "outputs": [],
   "source": [
    "#```\n",
    "\\select_{400 <= cNum < 500 and breadth} Courses = Null\n",
    "```"
   ]
  },
  {
   "cell_type": "markdown",
   "metadata": {},
   "source": [
    "**2. CSC490 can only be offered at the same time as CSC454.**"
   ]
  },
  {
   "cell_type": "code",
   "execution_count": null,
   "metadata": {
    "collapsed": true
   },
   "outputs": [],
   "source": [
    "1"
   ]
  },
  {
   "cell_type": "code",
   "execution_count": null,
   "metadata": {
    "code_folding": [],
    "collapsed": true
   },
   "outputs": [],
   "source": [
    "#```\n",
    "CSC490Offered(term) :=\n",
    "    \\project_{term}\n",
    "    \\select_{dept = 'csc' and cNum = 490}\n",
    "    Offered\n",
    "    \n",
    "CSC454Offered(term) :=\n",
    "    \\project_{term}\n",
    "    \\select_{dept = 'csc' and cNum = 454}\n",
    "    Offered\n",
    "\n",
    "CSC490Offered \\difference CSC454Offered = null\n",
    "```"
   ]
  },
  {
   "cell_type": "markdown",
   "metadata": {},
   "source": [
    "### Queries"
   ]
  },
  {
   "cell_type": "markdown",
   "metadata": {},
   "source": [
    "**1. Student number of all students who have taken csc343.**"
   ]
  },
  {
   "cell_type": "code",
   "execution_count": null,
   "metadata": {
    "code_folding": [
     0
    ],
    "collapsed": true
   },
   "outputs": [],
   "source": [
    "#```\n",
    "\\project_{sID}\n",
    "\\select_{dept = 'csc' and cNum = 343}\n",
    "(Took \\natural_join Offering)\n",
    "```"
   ]
  },
  {
   "cell_type": "markdown",
   "metadata": {},
   "source": [
    "**2. Student number of all students who have taken csc343 and earned an A+ in it.**"
   ]
  },
  {
   "cell_type": "code",
   "execution_count": 7,
   "metadata": {
    "code_folding": [
     0
    ],
    "collapsed": true,
    "scrolled": true
   },
   "outputs": [],
   "source": [
    "#```\n",
    "csc343Masters(sID) :=\n",
    "    \\project_{sID}\n",
    "    \\select_{dept = \"csc\" and cNum = 343 and grade > 90} \n",
    "    (Took \\natural_join Offering)\n",
    "```"
   ]
  },
  {
   "cell_type": "markdown",
   "metadata": {},
   "source": [
    "**3. The names of all such students.**"
   ]
  },
  {
   "cell_type": "code",
   "execution_count": null,
   "metadata": {
    "code_folding": [
     0
    ],
    "collapsed": true
   },
   "outputs": [],
   "source": [
    "#```\n",
    "\\project_{firstName, surName} (csc343Masters \\natural_join Student)\n",
    "```"
   ]
  },
  {
   "cell_type": "markdown",
   "metadata": {},
   "source": [
    "**4. The names of all students who have passed a breadth course with Professor Picky.**"
   ]
  },
  {
   "cell_type": "code",
   "execution_count": null,
   "metadata": {
    "code_folding": [
     0
    ],
    "collapsed": true
   },
   "outputs": [],
   "source": [
    "#```\n",
    "\\project_{firstName, surName}\n",
    "\\select_{intructor = \"Professor Picky\" and breadth}\n",
    "(Student \\natural_join Took \\natural_join Offering)\n",
    "```"
   ]
  },
  {
   "cell_type": "markdown",
   "metadata": {},
   "source": [
    "**5. sID of all students who have earned some grade over 80 and some grade below 50.**"
   ]
  },
  {
   "cell_type": "code",
   "execution_count": null,
   "metadata": {
    "code_folding": [
     0
    ],
    "collapsed": true
   },
   "outputs": [],
   "source": [
    "#```\n",
    "\\project_{sID} \\select_{grade > 80} Took\n",
    "\\intersect\n",
    "\\project_{sID} \\select_{grade < 50} Took\n",
    "```"
   ]
  },
  {
   "cell_type": "markdown",
   "metadata": {},
   "source": [
    "**6. Terms when Cook and Pitassi were both teaching something.**"
   ]
  },
  {
   "cell_type": "markdown",
   "metadata": {},
   "source": [
    "**7. Terms when either of them was teaching csc463.**"
   ]
  },
  {
   "cell_type": "markdown",
   "metadata": {},
   "source": [
    "**8. sID of students who have earned a grade of 85 or more, or who have passed a course taught by Atwood.**"
   ]
  },
  {
   "cell_type": "markdown",
   "metadata": {},
   "source": [
    "**9. Terms when csc369 was not offered.**"
   ]
  },
  {
   "cell_type": "markdown",
   "metadata": {},
   "source": [
    "```\n",
    "\\project_{term} Offering - \n",
    "\\project_{term} \\select_{dept = 'csc' and cNum = 369} Offering\n",
    "```"
   ]
  },
  {
   "cell_type": "code",
   "execution_count": null,
   "metadata": {
    "code_folding": [
     0
    ],
    "collapsed": true
   },
   "outputs": [],
   "source": [
    "#```\n",
    "\\project_{term} Offering - \\project_{term} \\select_{dept = 'csc' and cNum = 343} Offering\n",
    "```"
   ]
  },
  {
   "cell_type": "markdown",
   "metadata": {},
   "source": [
    "**10. Department and course number of courses that have never been offered.**"
   ]
  },
  {
   "cell_type": "markdown",
   "metadata": {},
   "source": [
    "```\n",
    "\\project_{dept, cNum} Courses - \\project_{dept, cNum} Offering\n",
    "```"
   ]
  },
  {
   "cell_type": "code",
   "execution_count": null,
   "metadata": {
    "code_folding": [
     0
    ],
    "collapsed": true
   },
   "outputs": [],
   "source": [
    "#```\n",
    "\\project_{dept, cNum} Courses - \\project_{dept, cNum} Offering\n",
    "```"
   ]
  },
  {
   "cell_type": "markdown",
   "metadata": {},
   "source": [
    "**11. SIDs and surnames of all pairs of students who’ve taken a course together.**"
   ]
  },
  {
   "cell_type": "markdown",
   "metadata": {},
   "source": [
    "```\n",
    "StudentTookCourse(sID, surName, oID) :=\n",
    "    \\project_{sID, surName, oID}\n",
    "    (Student \\natural_join Took)\n",
    "    \n",
    "Answer(sID1, sID2, surName1, surName2) :=\n",
    "    \\project_{s1.sID, s2.sID, s1.surName, s2.surName}\n",
    "    \\select_{s1.oID = s2.oID and s1.sID < s2.sID}\n",
    "    (\\rename_{s1} StudentTookCourse \\product \n",
    "     \\rename_{s2} StudentTookCourse)\n",
    "```"
   ]
  },
  {
   "cell_type": "code",
   "execution_count": null,
   "metadata": {
    "code_folding": [
     0
    ],
    "collapsed": true
   },
   "outputs": [],
   "source": [
    "#```\n",
    "NameAndCourse(sID, surName, oID) := \n",
    "    \\project_{sID, surName, oID}\n",
    "    (Student \\natural_join Tool)\n",
    "\n",
    "AllTakers =\n",
    "Answer(sID1, sID2, surName1, surName2} :=\n",
    "    \\project_{s1.sID, s2.sID, s1.surName, s2.surName} \n",
    "    \\select_{s1.oID = s2.oID}\n",
    "    (\\rename_{s1} NameAndCourse \\product \\rename_{s2} NameAndCourse)\n",
    "```"
   ]
  },
  {
   "cell_type": "markdown",
   "metadata": {},
   "source": [
    "**12. sID of student(s) with the highest grade in csc343, in term 20099.**"
   ]
  },
  {
   "cell_type": "code",
   "execution_count": null,
   "metadata": {
    "code_folding": [],
    "collapsed": true
   },
   "outputs": [],
   "source": [
    "#```\n",
    "TookCourse(sID, grade) :=\n",
    "    \\project_{sID, grade)\n",
    "    \\select_{dept = \"csc\" and cNum - 343 and term = 20099}\n",
    "    (Took \\natural_join Offering)\n",
    "\n",
    "NotHightestGrade(sID) :=\n",
    "    \\project_{t1.sID}\n",
    "    \\select_{t1.grade < t2.grade}\n",
    "    (\\rename_{t1} TookCourse \\product \\rename_{t2} TookCourse)\n",
    "\n",
    "Answer(sID) := \\project_{sID} TookCourse - NotHightestGrade\n",
    "```"
   ]
  },
  {
   "cell_type": "code",
   "execution_count": null,
   "metadata": {
    "code_folding": [
     0
    ],
    "collapsed": true
   },
   "outputs": [],
   "source": [
    "#```\n",
    "AllTakers(sID, grade) :=\n",
    "    \\project_{sID, grade}\n",
    "    \\select_{dept = \"csc\" and cNum = 343}\n",
    "    (Took \\natural_join Offering)\n",
    "\n",
    "NotTop(sID) :=\n",
    "\n",
    "Top(sID) :=\n",
    "    \\project_{sID}\n",
    "    (AllTakers - \n",
    "```"
   ]
  },
  {
   "cell_type": "markdown",
   "metadata": {},
   "source": [
    "**13. sID of students who have a grade of 100 at least twice.**"
   ]
  },
  {
   "cell_type": "code",
   "execution_count": null,
   "metadata": {
    "code_folding": [],
    "collapsed": true
   },
   "outputs": [],
   "source": [
    "#```\n",
    "AtLeastTwice(sID) :=\n",
    "    \\project_{t1.sID}\n",
    "    \\select_{\n",
    "        t1.sID = t2.sID\n",
    "        and t1.oID < t2.oID\n",
    "        and t1.grade = t2.grade = 100\n",
    "    }\n",
    "    (\\rename_{t1} Took \\product \\rename_{t2} Took)\n",
    "```"
   ]
  },
  {
   "cell_type": "markdown",
   "metadata": {},
   "source": [
    "**14. sID of students who have a grade of 100 exactly twice.**"
   ]
  },
  {
   "cell_type": "code",
   "execution_count": null,
   "metadata": {
    "code_folding": [],
    "collapsed": true
   },
   "outputs": [],
   "source": [
    "#```\n",
    "AtLeastThrice(sID) :=\n",
    "    \\project_{t1.sID}\n",
    "    \\select_{\n",
    "        t1.sID = t2.sID = t3.sID\n",
    "        and t1.oID < t2.oID < t3.oID\n",
    "        and t1.grade = t2.grade = t3.grade = 100\n",
    "    }\n",
    "    (\\rename_{t1} Took \\product \\rename_{t2} Took \\product \\rename_{t3} Took)\n",
    "\n",
    "\n",
    "Answer(sID) := AtLeastTwice \\difference AtLeasetThrice\n",
    "```"
   ]
  },
  {
   "cell_type": "markdown",
   "metadata": {},
   "source": [
    "**15. sID of students who have a grade of 100 at most twice.**"
   ]
  },
  {
   "cell_type": "markdown",
   "metadata": {},
   "source": [
    "All students or only students who ever took a course?"
   ]
  },
  {
   "cell_type": "code",
   "execution_count": null,
   "metadata": {
    "code_folding": [],
    "collapsed": true
   },
   "outputs": [],
   "source": [
    "#```\n",
    "Answer(sID) := \\project_{sID} Took \\difference AtLeastThrice\n",
    "```"
   ]
  }
 ],
 "metadata": {
  "anaconda-cloud": {},
  "kernelspec": {
   "display_name": "Python [default]",
   "language": "python",
   "name": "python3"
  },
  "language_info": {
   "codemirror_mode": {
    "name": "ipython",
    "version": 3
   },
   "file_extension": ".py",
   "mimetype": "text/x-python",
   "name": "python",
   "nbconvert_exporter": "python",
   "pygments_lexer": "ipython3",
   "version": "3.6.5"
  },
  "toc": {
   "colors": {
    "hover_highlight": "#DAA520",
    "navigate_num": "#000000",
    "navigate_text": "#333333",
    "running_highlight": "#FF0000",
    "selected_highlight": "#FFD700",
    "sidebar_border": "#EEEEEE",
    "wrapper_background": "#FFFFFF"
   },
   "moveMenuLeft": true,
   "nav_menu": {
    "height": "47px",
    "width": "252px"
   },
   "navigate_menu": true,
   "number_sections": false,
   "sideBar": false,
   "threshold": 4,
   "toc_cell": false,
   "toc_position": {
    "height": "234px",
    "left": "880.98px",
    "right": "20px",
    "top": "40.9858px",
    "width": "324px"
   },
   "toc_section_display": "none",
   "toc_window_display": true,
   "widenNotebook": false
  }
 },
 "nbformat": 4,
 "nbformat_minor": 2
}
