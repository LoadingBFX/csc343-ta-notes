{
 "cells": [
  {
   "cell_type": "markdown",
   "metadata": {},
   "source": [
    "# Tutorial 10"
   ]
  },
  {
   "cell_type": "markdown",
   "metadata": {
    "collapsed": true
   },
   "source": [
    "## In-class Exercises: The Chase Test"
   ]
  },
  {
   "cell_type": "markdown",
   "metadata": {},
   "source": [
    "https://en.wikipedia.org/wiki/Chase_(algorithm)"
   ]
  },
  {
   "cell_type": "markdown",
   "metadata": {},
   "source": [
    "Throughout these solutions, I use boldface letters to show values whose presence we can infer from the structure of the decomposition, non-boldface letters to show values whose presence we can then infer from the FDs, and 3 for a value that could be anything."
   ]
  },
  {
   "cell_type": "markdown",
   "metadata": {
    "collapsed": true
   },
   "source": [
    "*1. Suppose we have a relation on attributes NF LCG with these FDs:*\n",
    "    \n",
    "```\n",
    "N -> FL; NC -> G\n",
    "```"
   ]
  },
  {
   "cell_type": "markdown",
   "metadata": {},
   "source": [
    "*(a) Suppose we decompose into relations **NF**, **FLC** and **LCG**. Use the Chase Test to determine whether this is a lossless-join decomposition.*"
   ]
  },
  {
   "cell_type": "markdown",
   "metadata": {},
   "source": [
    "N     | F     | L     | C     | G\n",
    "-     | -     | -     | -     | -\n",
    "**n** | **f** | l1    | c1    | g1\n",
    "n2    | f     | **l** | **c** | g2\n",
    "n3    | f3    | **l** | **c** | **g**"
   ]
  },
  {
   "cell_type": "markdown",
   "metadata": {},
   "source": [
    "*(b) Suppose we decompose into relations NF, NL and NCG. Use the Chase Test to determine whether this is a\n",
    "lossless-join decomposition.*"
   ]
  },
  {
   "cell_type": "markdown",
   "metadata": {},
   "source": [
    "N     | F     | L     | C     | G\n",
    "-     | -     | -     | -     | -\n",
    "**n** | **f** | l1    | c1    | g1\n",
    "**n** | f2    | **l** | c2    | g2\n",
    "**n** | f3    | l3    | **c** | **g**"
   ]
  },
  {
   "cell_type": "markdown",
   "metadata": {},
   "source": [
    "*(c) Suppose we decompose into relations **NFC**, and **NLG**. Use the Chase Test to determine whether this is a losslessjoin decomposition.*"
   ]
  },
  {
   "cell_type": "markdown",
   "metadata": {},
   "source": [
    "N     | F     | L     | C     | G\n",
    "-     | -     | -     | -     | -\n",
    "**n** | **f** | l1    | **c** | g1\n",
    "**n** | f2    | **l** | c2    | **g**\n"
   ]
  },
  {
   "cell_type": "markdown",
   "metadata": {},
   "source": [
    "*2. Suppose we have a relation on attributes **ABCDEF** and it is to be decomposed into relations **ABCD** and **DEF**.*"
   ]
  },
  {
   "cell_type": "markdown",
   "metadata": {},
   "source": [
    "*(a) Invent a set of FDs that would make this a lossless-join decomposition.*"
   ]
  },
  {
   "cell_type": "markdown",
   "metadata": {},
   "source": [
    "*(b) Invent a set of three FDs that would make this is a lossy-join decomposition.*"
   ]
  },
  {
   "cell_type": "markdown",
   "metadata": {},
   "source": [
    "*(c) If there were no FDs at all, is it possible that the decomposition is lossless?*"
   ]
  },
  {
   "cell_type": "markdown",
   "metadata": {},
   "source": [
    "**Important**: In practise, one never invents FDs! They are facts about the domain that either hold or don’t hold. So this question is completely unrealistic, but if you can solve it, you really understand the Chase Test."
   ]
  },
  {
   "cell_type": "markdown",
   "metadata": {},
   "source": [
    "## In-class Exercises: BCNF"
   ]
  },
  {
   "cell_type": "markdown",
   "metadata": {},
   "source": [
    "*1. FD recap.*"
   ]
  },
  {
   "cell_type": "markdown",
   "metadata": {},
   "source": [
    "*(a) Create an instance of relation R(A; B; C; D; E) that violates this functional dependency: ABC -> DE:*"
   ]
  },
  {
   "cell_type": "markdown",
   "metadata": {},
   "source": [
    "A | B | C | D | E\n",
    "- | - | - | - | -\n"
   ]
  },
  {
   "cell_type": "markdown",
   "metadata": {},
   "source": [
    "*(b) Suppose we have a relation R(A; B; C; D; E). Does the instance below violate the functional dependency DB -> A?*"
   ]
  },
  {
   "cell_type": "markdown",
   "metadata": {},
   "source": [
    "A | B | C | D | E\n",
    "- | - | - | - | -\n",
    "5 | 3 | 2 | 1 | 6\n",
    "5 | 3 | 3 | 1 | 2\n",
    "5 | 8 | 4 | 1 | 5"
   ]
  },
  {
   "cell_type": "markdown",
   "metadata": {},
   "source": [
    "*2. Is a relation in BCNF?*"
   ]
  },
  {
   "cell_type": "markdown",
   "metadata": {},
   "source": [
    "*2. Is a relation in BCNF?*"
   ]
  },
  {
   "cell_type": "markdown",
   "metadata": {},
   "source": [
    "*(a) Suppose we have a relation Students(SID, email, course, term, prof), and that these FDs hold:*\n",
    "    \n",
    "```\n",
    "{SID -> email; course, term -> prof; SID, course -> grade}\n",
    "```\n",
    "\n",
    "Is this relation in BCNF?"
   ]
  },
  {
   "cell_type": "markdown",
   "metadata": {},
   "source": [
    "*(b) Suppose we have a relation Customers(name, DOB, address, favouriteCar, manufacturer) and these FDs hold:*\n",
    "    \n",
    "```\n",
    "{name -> DOB, favouriteCar; favouriteCar -> manufacturer}\n",
    "```\n",
    "\n",
    "Is this relation in BCNF?"
   ]
  },
  {
   "cell_type": "markdown",
   "metadata": {},
   "source": [
    "*(c) Suppose we have a relation Parts(part, manufacturer, seller, price) and these FDs hold:*\n",
    "    \n",
    "```\n",
    "{part -> manufacturer; part, seller -> price}\n",
    "```\n",
    "\n",
    "Is this relation in BCNF?"
   ]
  },
  {
   "cell_type": "markdown",
   "metadata": {},
   "source": [
    "*(d) Suppose we have a relation R(A, B, C, D, E) and these FDs hold:*\n",
    "    \n",
    "```\n",
    "{B -> AC; CB -> E; A -> D}\n",
    "```\n",
    "\n",
    "Is this relation in BCNF?"
   ]
  },
  {
   "cell_type": "markdown",
   "metadata": {},
   "source": [
    "*3. **How does BCNF help?** Consider again the relation relation Parts(part, manufacturer, seller, price) with these FDs:*\n",
    "\n",
    "```\n",
    "{part -> manufacturer; part, seller > price}\n",
    "```"
   ]
  },
  {
   "cell_type": "markdown",
   "metadata": {},
   "source": [
    "*(a) Keeping in mind the FDs, make an instance of this relation that has redundant information.*"
   ]
  },
  {
   "cell_type": "markdown",
   "metadata": {},
   "source": [
    "part | manufacturer | seller  | price\n",
    "---- | ------------ | ------- | ------\n",
    "p1   | man1         | seller1 | 45.99\n",
    "p1   | man1         | seller2 | 30.49"
   ]
  },
  {
   "cell_type": "markdown",
   "metadata": {},
   "source": [
    "*(b) If we applied the decomposition step from BCNF decomposition, what attributes would each of the new relations\n",
    "have?*"
   ]
  },
  {
   "cell_type": "markdown",
   "metadata": {},
   "source": [
    "*(c) Project the FDs onto each of the new relations.*"
   ]
  },
  {
   "cell_type": "markdown",
   "metadata": {},
   "source": [
    "*(d) Put the same data as in part (a) into your new schema. Is there any redundancy?*"
   ]
  },
  {
   "cell_type": "markdown",
   "metadata": {},
   "source": [
    "part | manufacturer\n",
    "---- | ------------\n",
    "p1   | man1"
   ]
  },
  {
   "cell_type": "markdown",
   "metadata": {},
   "source": [
    "part | seller  | price\n",
    "---- | ------- | -----\n",
    "p1   | seller1 | 45.99\n",
    "p1   | seller2 | 30.49"
   ]
  },
  {
   "cell_type": "markdown",
   "metadata": {},
   "source": [
    "*(e) Is it possible to create redundancy with this new schema?*"
   ]
  },
  {
   "cell_type": "markdown",
   "metadata": {},
   "source": [
    "## In-class Exercises: Finding all keys"
   ]
  },
  {
   "cell_type": "markdown",
   "metadata": {},
   "source": [
    "Consider a relation schema **R** with attributes **ABCDEF** with functional dependencies S:\n",
    "\n",
    "```\n",
    "S = {AB -> C; BF -> E; C -> BE; AC -> F}\n",
    "```"
   ]
  },
  {
   "cell_type": "markdown",
   "metadata": {},
   "source": [
    "*1. Recap: In terms of functional dependencies, what does it mean to be a key?*"
   ]
  },
  {
   "cell_type": "markdown",
   "metadata": {},
   "source": [
    "*2. Find all keys for relation R.*"
   ]
  },
  {
   "cell_type": "markdown",
   "metadata": {},
   "source": [
    "*3. What is the complexity of doing this by brute force? That is, how many things did you have to compute?*"
   ]
  },
  {
   "cell_type": "markdown",
   "metadata": {},
   "source": [
    "*4. There is potential for some big speed-ups. What did you notice about the attributes? Are there any that you know will never be in any key? Any that must be in every key?*"
   ]
  },
  {
   "cell_type": "markdown",
   "metadata": {},
   "source": [
    "*5. Can you define some general rules for speed-ups | rules that would hold for any relation?*"
   ]
  },
  {
   "cell_type": "markdown",
   "metadata": {},
   "source": [
    "*6. With these in mind, now find all keys for R.*"
   ]
  },
  {
   "cell_type": "markdown",
   "metadata": {},
   "source": [
    "*7. How many things did you have to compute?*"
   ]
  },
  {
   "cell_type": "code",
   "execution_count": null,
   "metadata": {
    "collapsed": true
   },
   "outputs": [],
   "source": []
  }
 ],
 "metadata": {
  "kernelspec": {
   "display_name": "Python [default]",
   "language": "python",
   "name": "python3"
  },
  "language_info": {
   "codemirror_mode": {
    "name": "ipython",
    "version": 3
   },
   "file_extension": ".py",
   "mimetype": "text/x-python",
   "name": "python",
   "nbconvert_exporter": "python",
   "pygments_lexer": "ipython3",
   "version": "3.6.4"
  },
  "toc": {
   "base_numbering": 1,
   "nav_menu": {},
   "number_sections": false,
   "sideBar": false,
   "skip_h1_title": false,
   "title_cell": "Table of Contents",
   "title_sidebar": "Contents",
   "toc_cell": false,
   "toc_position": {},
   "toc_section_display": true,
   "toc_window_display": false
  }
 },
 "nbformat": 4,
 "nbformat_minor": 2
}
