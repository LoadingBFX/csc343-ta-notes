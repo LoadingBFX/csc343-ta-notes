{
 "cells": [
  {
   "cell_type": "markdown",
   "metadata": {},
   "source": [
    "## In-class Exercises: Functional Dependencies"
   ]
  },
  {
   "cell_type": "markdown",
   "metadata": {},
   "source": [
    "Suppose we have a relation R with attributes ABCD"
   ]
  },
  {
   "cell_type": "markdown",
   "metadata": {},
   "source": [
    "*1. What an FD means. Suppose the functional dependency BC -> D holds in R. Create an instance of R that violates\n",
    "this FD.*"
   ]
  },
  {
   "cell_type": "markdown",
   "metadata": {},
   "source": [
    "A | B | C | D\n",
    "- | - | - | -\n",
    "\n"
   ]
  },
  {
   "cell_type": "markdown",
   "metadata": {},
   "source": [
    "*2. Equivalent sets of FDs.*"
   ]
  },
  {
   "cell_type": "markdown",
   "metadata": {},
   "source": [
    "*(a) Are the sets A -> BC and A -> B; A -> C equivalent? If yes, explain why. If no, construct an instance of R that\n",
    "satisfies one set of FDs but not the other.*"
   ]
  },
  {
   "cell_type": "markdown",
   "metadata": {},
   "source": [
    "*(b) Are the sets PQ -> R and P -> R; Q -> R equivalent? If yes, explain why. If no, construct an instance of R that satisfies one set of FDs but not the other.*"
   ]
  },
  {
   "cell_type": "markdown",
   "metadata": {},
   "source": [
    "*(c) Are the sets PQ -> R and P -> Q; P -> R equivalent? If yes, explain why. If no, construct an instance of R that satisfies one set of FDs but not the other.*"
   ]
  },
  {
   "cell_type": "markdown",
   "metadata": {},
   "source": [
    "*3. Keys and FDs.*"
   ]
  },
  {
   "cell_type": "markdown",
   "metadata": {},
   "source": [
    "*(a) We claimed that if a set of attributes K functionally determines all attributes, K must be a superkey (i.e., no two tuples can agree on all attributes in K). Do you believe this? Suppose these FDs hold in R: A -> BC, C -> D.\n",
    "Does A functionally determine all attributes of R? Can two tuples agree on A?*"
   ]
  },
  {
   "cell_type": "markdown",
   "metadata": {},
   "source": [
    "*(b) We also said that if K is a superkey (i.e., no two tuples can agree on all attributes in K) K must functionally determine all attributes. Do you believe this? Suppose A is a superkey of R Does A functionally determine all attributes of R?*"
   ]
  },
  {
   "cell_type": "markdown",
   "metadata": {},
   "source": [
    "*4. Does an FD follow from a set of FDs? Suppose we have a relation on attributes ABCDEF with these FDs:*\n",
    "\n",
    "AC -> F; CEF -> B; C -> D; DC -> A"
   ]
  },
  {
   "cell_type": "markdown",
   "metadata": {},
   "source": [
    "*(a) Does it follow that C -> F?*"
   ]
  },
  {
   "cell_type": "markdown",
   "metadata": {},
   "source": [
    "*(b) Does it follow that ACD -> B?*"
   ]
  },
  {
   "cell_type": "markdown",
   "metadata": {},
   "source": [
    "*5. Projecting a set of FDs onto a subset of the attributes. Suppose we have a relation on attributes ABCDE\n",
    "with these FDs:*\n",
    "    \n",
    "A -> C; C -> E; E -> BD"
   ]
  },
  {
   "cell_type": "markdown",
   "metadata": {},
   "source": [
    "*(a) Project the FDs onto attributes ABC.*"
   ]
  },
  {
   "cell_type": "markdown",
   "metadata": {},
   "source": [
    "*(b) Project the FDs onto attributes ADE*"
   ]
  },
  {
   "cell_type": "markdown",
   "metadata": {},
   "source": [
    "## In-class Exercises: Projection and Minimal Basis"
   ]
  },
  {
   "cell_type": "markdown",
   "metadata": {},
   "source": [
    "*1. Suppose we have these FDs: : S = {ABE -> CF; DF -> BD; C -> DF; E -> A; AF -> B}*\n",
    "\n",
    "Project the FDs onto: L = CDEF"
   ]
  },
  {
   "cell_type": "markdown",
   "metadata": {},
   "source": [
    "C | D | E | F | X+ | Functional dependencies inferred\n",
    "- | - | - | - | -- | -----\n"
   ]
  },
  {
   "cell_type": "markdown",
   "metadata": {},
   "source": [
    "*2. Find a minimal basis for this set of FDs: S = {ABF -> G; BC -> H; BCH -> EG; BE -> GH}*"
   ]
  },
  {
   "cell_type": "code",
   "execution_count": null,
   "metadata": {
    "collapsed": true
   },
   "outputs": [],
   "source": []
  }
 ],
 "metadata": {
  "kernelspec": {
   "display_name": "Python [default]",
   "language": "python",
   "name": "python3"
  },
  "language_info": {
   "codemirror_mode": {
    "name": "ipython",
    "version": 3
   },
   "file_extension": ".py",
   "mimetype": "text/x-python",
   "name": "python",
   "nbconvert_exporter": "python",
   "pygments_lexer": "ipython3",
   "version": "3.6.4"
  },
  "toc": {
   "base_numbering": 1,
   "nav_menu": {},
   "number_sections": false,
   "sideBar": false,
   "skip_h1_title": false,
   "title_cell": "Table of Contents",
   "title_sidebar": "Contents",
   "toc_cell": false,
   "toc_position": {},
   "toc_section_display": true,
   "toc_window_display": false
  }
 },
 "nbformat": 4,
 "nbformat_minor": 2
}
