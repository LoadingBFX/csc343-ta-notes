{
 "cells": [
  {
   "cell_type": "markdown",
   "metadata": {},
   "source": [
    "## In-class Exercises: Functional Dependencies"
   ]
  },
  {
   "cell_type": "markdown",
   "metadata": {},
   "source": [
    "Suppose we have a relation R with attributes ABCD"
   ]
  },
  {
   "cell_type": "markdown",
   "metadata": {},
   "source": [
    "#### 1. What an FD means. Suppose the functional dependency BC -> D holds in R. Create an instance of R that violates this FD."
   ]
  },
  {
   "cell_type": "markdown",
   "metadata": {},
   "source": [
    "A | B | C | D\n",
    "- | - | - | -\n",
    "1 | 1 | 2 | 3\n",
    "1 | 1 | 2 | 4\n"
   ]
  },
  {
   "cell_type": "markdown",
   "metadata": {},
   "source": [
    "#### 2. Equivalent sets of FDs."
   ]
  },
  {
   "cell_type": "markdown",
   "metadata": {},
   "source": [
    "*(a) Are the sets **A -> BC** and **A -> B**; **A -> C** equivalent? If yes, explain why. If no, construct an instance of R that satisfies one set of FDs but not the other.*"
   ]
  },
  {
   "cell_type": "markdown",
   "metadata": {},
   "source": [
    "*(b) Are the sets **PQ -> R** and **P -> R**; **Q -> R** equivalent? If yes, explain why. If no, construct an instance of R that satisfies one set of FDs but not the other.*\n",
    "\n",
    "P | Q | R\n",
    "- | - | -\n",
    "1 | 2 | 3\n",
    "3 | 2 | 4"
   ]
  },
  {
   "cell_type": "markdown",
   "metadata": {},
   "source": [
    "*(c) Are the sets PQ -> R and P -> Q; P -> R equivalent? If yes, explain why. If no, construct an instance of R that satisfies one set of FDs but not the other.*\n",
    "\n",
    "P | Q | R\n",
    "- | - | -\n",
    "1 | 2 | 3\n",
    "1 | 3 | 4"
   ]
  },
  {
   "cell_type": "markdown",
   "metadata": {},
   "source": [
    "#### 3. Keys and FDs."
   ]
  },
  {
   "cell_type": "markdown",
   "metadata": {},
   "source": [
    "*(a) We claimed that if a set of attributes K functionally determines all attributes, K must be a superkey (i.e., no two tuples can agree on all attributes in K). Do you believe this? Suppose these FDs hold in R: A -> BC, C -> D.\n",
    "Does A functionally determine all attributes of R? Can two tuples agree on A?*"
   ]
  },
  {
   "cell_type": "markdown",
   "metadata": {},
   "source": [
    "A+ = ABCD"
   ]
  },
  {
   "cell_type": "markdown",
   "metadata": {},
   "source": [
    "*(b) We also said that if K is a superkey (i.e., no two tuples can agree on all attributes in K) K must functionally determine all attributes. Do you believe this? Suppose A is a superkey of R Does A functionally determine all attributes of R?*"
   ]
  },
  {
   "cell_type": "markdown",
   "metadata": {},
   "source": [
    "#### 4. Does an FD follow from a set of FDs? Suppose we have a relation on attributes **ABCDEF** with these FDs:\n",
    "\n",
    "```\n",
    "AC -> F; CEF -> B; C -> D; DC -> A\n",
    "```"
   ]
  },
  {
   "cell_type": "markdown",
   "metadata": {},
   "source": [
    "*(a) Does it follow that **C -> F**?*"
   ]
  },
  {
   "cell_type": "markdown",
   "metadata": {},
   "source": [
    "C+ = CDAF (C -> DAF; C -> F;)"
   ]
  },
  {
   "cell_type": "markdown",
   "metadata": {},
   "source": [
    "*(b) Does it follow that **ACD -> B**?*"
   ]
  },
  {
   "cell_type": "markdown",
   "metadata": {},
   "source": [
    "ACD+ = ACDF (nope)"
   ]
  },
  {
   "cell_type": "markdown",
   "metadata": {},
   "source": [
    "#### 5. Projecting a set of FDs onto a subset of the attributes. Suppose we have a relation on attributes **ABCDE** with these FDs:\n",
    "\n",
    "```\n",
    "A -> C; C -> E; E -> BD\n",
    "```"
   ]
  },
  {
   "cell_type": "markdown",
   "metadata": {},
   "source": [
    "*(a) Project the FDs onto attributes **ABC**.*"
   ]
  },
  {
   "cell_type": "markdown",
   "metadata": {},
   "source": [
    "```\n",
    "A+ = ACEBD (A -> BC)\n",
    "B+ = B\n",
    "C+ = CEBD (C -> B)\n",
    "AB+ = ...\n",
    "AC+ = ...\n",
    "BC+ = BCED\n",
    "```\n",
    "\n",
    "```\n",
    "A -> BC, C -> B\n",
    "```"
   ]
  },
  {
   "cell_type": "markdown",
   "metadata": {},
   "source": [
    "*(b) Project the FDs onto attributes **ADE***\n",
    "\n",
    "```\n",
    "A -> C; C -> E; E -> BD\n",
    "```"
   ]
  },
  {
   "cell_type": "markdown",
   "metadata": {},
   "source": [
    "```\n",
    "A+ = ACEBD (A -> DE; A -> D, A -> E)\n",
    "D+ = D\n",
    "E+ = EBD (E -> D)\n",
    "AD+ = ...\n",
    "AE+ = ...\n",
    "DE+ = DEBD (DE -> )\n",
    "```"
   ]
  },
  {
   "cell_type": "markdown",
   "metadata": {},
   "source": [
    "## In-class Exercises: Projection and Minimal Basis"
   ]
  },
  {
   "cell_type": "markdown",
   "metadata": {},
   "source": [
    "#### 1. Suppose we have these FDs: \n",
    "\n",
    "```\n",
    "S = {ABE -> CF; DF -> BD; C -> DF; E -> A; AF -> B}\n",
    "```\n",
    "\n",
    "Project the FDs onto: L = **CDEF**"
   ]
  },
  {
   "cell_type": "markdown",
   "metadata": {},
   "source": [
    "```\n",
    "C+ = CDFBD (C -> DF)\n",
    "D+ = D\n",
    "E+ = EA\n",
    "F+ = F\n",
    "\n",
    "CD+ = \n",
    "CE+ = CEDFAB (CE -> DF) xxx\n",
    "CF+ =\n",
    "DE+ =\n",
    "DF+ =\n",
    "EF+ = EFABCDF (EF -> CD)\n",
    "```\n",
    "\n",
    "```\n",
    "CDE+ =\n",
    "...\n",
    "```\n",
    "\n",
    "...\n",
    "\n",
    "\n",
    "Result:\n",
    "```\n",
    "C -> DF\n",
    "EF -> CD\n",
    "```"
   ]
  },
  {
   "cell_type": "markdown",
   "metadata": {},
   "source": [
    "We could also organize our work this way:\n",
    "\n",
    "C | D | E | F | X+ | FD\n",
    "- | - | - | - | - | - \n",
    "x |   |   |   | C+ = CDFBD | ( C - > DF)\n",
    "  | x |   |   |            |\n",
    "  |   | x |   |            |\n",
    "  |   |   | x |            |\n",
    "x | x |   |   |            |\n",
    "x |   | x |   |            |\n",
    "x |   |   | x |            |\n",
    "  | x | x |   |            |\n",
    "  | x |   | x |            |\n",
    "  |   | x | x |            |\n",
    "x | x | x |   |            |\n",
    "x | x |   | x |            |\n",
    "x |   | x | x |            |\n",
    "  | x | x | x |            |"
   ]
  },
  {
   "cell_type": "markdown",
   "metadata": {},
   "source": [
    "#### 2. Find a minimal basis for this set of FDs:\n",
    "\n",
    "```\n",
    "S = {ABF -> G; BC -> H; BCH -> EG; BE -> GH}\n",
    "```"
   ]
  },
  {
   "cell_type": "markdown",
   "metadata": {
    "collapsed": true
   },
   "source": [
    "1.\n",
    "\n",
    "```\n",
    "a) ABF -> G\n",
    "b) BC -> H\n",
    "c) BCH -> E\n",
    "d) BCH -> G\n",
    "e) BE -> G\n",
    "f) BE -> H\n",
    "```"
   ]
  },
  {
   "cell_type": "markdown",
   "metadata": {},
   "source": [
    "2.\n",
    "\n",
    "```\n",
    "a) ABF -> G\n",
    "b) BC -> H\n",
    "c) BC -> E\n",
    "d) BC -> G\n",
    "e) BE -> G\n",
    "f) BE -> H\n",
    "```"
   ]
  },
  {
   "cell_type": "markdown",
   "metadata": {},
   "source": [
    "3.\n",
    "\n",
    "```\n",
    "a) ABF+ = ABF (required)\n",
    "b) BC+ = BCEGH (redundant, remove)\n",
    "c) BC+ = BCG (required)\n",
    "d) BC+ = BCEGH (redundant, remove)\n",
    "e) BE+ = BEH (required)\n",
    "f) BE+ = BEG (required)\n",
    "```"
   ]
  },
  {
   "cell_type": "markdown",
   "metadata": {},
   "source": [
    "Result:\n",
    "\n",
    "```\n",
    "a) ABF -> G\n",
    "c) BC -> E\n",
    "e) BE -> G\n",
    "f) BE -> H\n",
    "```"
   ]
  }
 ],
 "metadata": {
  "anaconda-cloud": {},
  "kernelspec": {
   "display_name": "Python [default]",
   "language": "python",
   "name": "python3"
  },
  "language_info": {
   "codemirror_mode": {
    "name": "ipython",
    "version": 3
   },
   "file_extension": ".py",
   "mimetype": "text/x-python",
   "name": "python",
   "nbconvert_exporter": "python",
   "pygments_lexer": "ipython3",
   "version": "3.6.4"
  },
  "toc": {
   "base_numbering": 1,
   "colors": {
    "hover_highlight": "#DAA520",
    "navigate_num": "#000000",
    "navigate_text": "#333333",
    "running_highlight": "#FF0000",
    "selected_highlight": "#FFD700",
    "sidebar_border": "#EEEEEE",
    "wrapper_background": "#FFFFFF"
   },
   "moveMenuLeft": true,
   "nav_menu": {},
   "navigate_menu": true,
   "number_sections": false,
   "sideBar": true,
   "skip_h1_title": false,
   "threshold": 4,
   "title_cell": "Table of Contents",
   "title_sidebar": "Contents",
   "toc_cell": false,
   "toc_position": {
    "height": "502px",
    "left": "0px",
    "right": "1049.28px",
    "top": "105.994px",
    "width": "193px"
   },
   "toc_section_display": true,
   "toc_window_display": true,
   "widenNotebook": false
  }
 },
 "nbformat": 4,
 "nbformat_minor": 2
}
