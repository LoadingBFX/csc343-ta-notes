{
 "cells": [
  {
   "cell_type": "code",
   "execution_count": 28,
   "metadata": {
    "collapsed": true
   },
   "outputs": [],
   "source": [
    "import os\n",
    "\n",
    "import pandas as pd\n",
    "from IPython.display import display\n",
    "from IPython.core.magic import register_line_magic, register_cell_magic, register_line_cell_magic"
   ]
  },
  {
   "cell_type": "code",
   "execution_count": 27,
   "metadata": {},
   "outputs": [],
   "source": [
    "@register_cell_magic\n",
    "def sql(line, cell):\n",
    "    \"my cell magic\"\n",
    "    try:\n",
    "        df = pd.read_sql_query(cell, engine)\n",
    "    except Exception as e:\n",
    "        print(e)\n",
    "    else:\n",
    "        display(df)"
   ]
  },
  {
   "cell_type": "code",
   "execution_count": 24,
   "metadata": {
    "collapsed": true
   },
   "outputs": [],
   "source": [
    "# # Source: https://ipython.readthedocs.io/en/stable/config/custommagics.html\n",
    "# from IPython.core.magic import (register_line_magic, register_cell_magic,\n",
    "#                                 register_line_cell_magic)\n",
    "\n",
    "# @register_line_magic\n",
    "# def lmagic(line):\n",
    "#     \"my line magic\"\n",
    "#     return line\n",
    "\n",
    "# @register_cell_magic\n",
    "# def cmagic(line, cell):\n",
    "#     \"my cell magic\"\n",
    "#     return line, cell\n",
    "\n",
    "# @register_line_cell_magic\n",
    "# def lcmagic(line, cell=None):\n",
    "#     \"Magic that works both as %lcmagic and as %%lcmagic\"\n",
    "#     if cell is None:\n",
    "#         print(\"Called as line magic\")\n",
    "#         return line\n",
    "#     else:\n",
    "#         print(\"Called as cell magic\")\n",
    "#         return line, cell\n",
    "\n",
    "# # In an interactive session, we need to delete these to avoid\n",
    "# # name conflicts for automagic to work on line magics.\n",
    "# del lmagic, lcmagic"
   ]
  },
  {
   "cell_type": "code",
   "execution_count": 25,
   "metadata": {},
   "outputs": [
    {
     "data": {
      "application/javascript": [
       "// Source: https://github.com/jupyter/notebook/issues/2453#issuecomment-298019101\n",
       "IPython.CodeCell.options_default.highlight_modes['magic_text/x-mssql'] = {'reg':[/^%%sql/]} ;\n",
       "console.log('AAAAA');\n",
       "IPython.notebook.events.one('kernel_ready.Kernel', function(){\n",
       "    console.log('BBBBB');\n",
       "    IPython.notebook.get_cells().map(function(cell){\n",
       "        if (cell.cell_type == 'code'){ cell.auto_highlight(); } }) ;\n",
       "});"
      ],
      "text/plain": [
       "<IPython.core.display.Javascript object>"
      ]
     },
     "metadata": {},
     "output_type": "display_data"
    }
   ],
   "source": [
    "%%javascript\n",
    "// Source: https://github.com/jupyter/notebook/issues/2453#issuecomment-298019101\n",
    "IPython.CodeCell.options_default.highlight_modes['magic_text/x-mssql'] = {'reg':[/^%%sql/]} ;\n",
    "console.log('AAAAA');\n",
    "IPython.notebook.events.one('kernel_ready.Kernel', function(){\n",
    "    console.log('BBBBB');\n",
    "    IPython.notebook.get_cells().map(function(cell){\n",
    "        if (cell.cell_type == 'code'){ cell.auto_highlight(); } }) ;\n",
    "});"
   ]
  },
  {
   "cell_type": "code",
   "execution_count": 26,
   "metadata": {
    "code_folding": []
   },
   "outputs": [],
   "source": [
    "# %%cmagic\n",
    "# select * from hello world"
   ]
  }
 ],
 "metadata": {
  "anaconda-cloud": {},
  "kernelspec": {
   "display_name": "Python [default]",
   "language": "python",
   "name": "python3"
  },
  "language_info": {
   "codemirror_mode": {
    "name": "ipython",
    "version": 3
   },
   "file_extension": ".py",
   "mimetype": "text/x-python",
   "name": "python",
   "nbconvert_exporter": "python",
   "pygments_lexer": "ipython3",
   "version": "3.6.5"
  },
  "toc": {
   "base_numbering": 1,
   "colors": {
    "hover_highlight": "#DAA520",
    "navigate_num": "#000000",
    "navigate_text": "#333333",
    "running_highlight": "#FF0000",
    "selected_highlight": "#FFD700",
    "sidebar_border": "#EEEEEE",
    "wrapper_background": "#FFFFFF"
   },
   "moveMenuLeft": true,
   "nav_menu": {},
   "navigate_menu": true,
   "number_sections": true,
   "sideBar": false,
   "skip_h1_title": false,
   "threshold": 4,
   "title_cell": "Table of Contents",
   "title_sidebar": "Contents",
   "toc_cell": false,
   "toc_position": {},
   "toc_section_display": true,
   "toc_window_display": false,
   "widenNotebook": false
  }
 },
 "nbformat": 4,
 "nbformat_minor": 2
}
