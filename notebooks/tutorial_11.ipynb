{
 "cells": [
  {
   "cell_type": "markdown",
   "metadata": {},
   "source": [
    "# Tutorial 11"
   ]
  },
  {
   "cell_type": "markdown",
   "metadata": {},
   "source": [
    "## From ER Diagram to Database Schema"
   ]
  },
  {
   "cell_type": "markdown",
   "metadata": {},
   "source": [
    "***1. Consider the following ER diagram:***\n",
    "\n",
    "![](tutorial_11/ER-1.png)"
   ]
  },
  {
   "cell_type": "markdown",
   "metadata": {
    "collapsed": true
   },
   "source": [
    "Which of these cardinalities is possible?"
   ]
  },
  {
   "cell_type": "markdown",
   "metadata": {},
   "source": [
    "| ｜person｜ | ｜member｜ | ｜club｜ | Is it possible? |\n",
    "|:-:|:-:|:-:|:-:|\n",
    "| 5 | 0 | 8 |   |\n",
    "| 5 | 7 | 8 |   |\n",
    "| 5 | 0 | 5 |   |\n",
    "| 5 | 10 | 5 |   |\n",
    "| 11 | 3 | 4 |   |\n",
    "| 11 | 9 | 4 |   |"
   ]
  },
  {
   "cell_type": "markdown",
   "metadata": {},
   "source": [
    "***2. Below is an Entity-Relationship diagram about car dealerships. It may or may not represent the domain\n",
    "well. Answer the questions below.***"
   ]
  },
  {
   "cell_type": "markdown",
   "metadata": {
    "collapsed": true
   },
   "source": [
    "![](tutorial_11/ER-2.png)"
   ]
  },
  {
   "cell_type": "markdown",
   "metadata": {},
   "source": [
    "*(a) A car sale cannot involve more than one salesperson.*"
   ]
  },
  {
   "cell_type": "markdown",
   "metadata": {},
   "source": [
    "*(b) There can be two cars with the same VIN as long as the model and year are different.*"
   ]
  },
  {
   "cell_type": "markdown",
   "metadata": {},
   "source": [
    "*(c) A salesperson can work at any number of dealerships.*"
   ]
  },
  {
   "cell_type": "markdown",
   "metadata": {},
   "source": [
    "*(d) There can’t be more salespeople than dealerships.*"
   ]
  },
  {
   "cell_type": "markdown",
   "metadata": {},
   "source": [
    "*(e) There can be multiple sales on the same date.*"
   ]
  },
  {
   "cell_type": "markdown",
   "metadata": {},
   "source": [
    "*(f) Two salespeople can have the same sID as long as they work at different dealerships.*"
   ]
  },
  {
   "cell_type": "markdown",
   "metadata": {},
   "source": [
    "*(g) This model contains a weak entity set.*"
   ]
  },
  {
   "cell_type": "markdown",
   "metadata": {},
   "source": [
    "*(h) The works at relationship is a one-to-many relationship.*"
   ]
  },
  {
   "cell_type": "markdown",
   "metadata": {},
   "source": [
    "## In-class Exercises: Properties of Decompositions"
   ]
  },
  {
   "cell_type": "markdown",
   "metadata": {
    "collapsed": true
   },
   "source": [
    "***1. Consider the following ER diagram:***\n",
    "\n",
    "![](tutorial_11/ER2-1.png)"
   ]
  },
  {
   "cell_type": "markdown",
   "metadata": {},
   "source": [
    "(a) Name a weak entity set in this diagram."
   ]
  },
  {
   "cell_type": "markdown",
   "metadata": {},
   "source": [
    "(b) What attributes form a key for this entity set?"
   ]
  },
  {
   "cell_type": "markdown",
   "metadata": {},
   "source": [
    "(c) Can a department exist without a manager?"
   ]
  },
  {
   "cell_type": "markdown",
   "metadata": {},
   "source": [
    "(d) How many departments can an employee belong to?"
   ]
  },
  {
   "cell_type": "markdown",
   "metadata": {},
   "source": [
    "(e) Find an example of each of these kinds of relationship, if there is one.\n",
    "- A one-to-one relationship:\n",
    "- A one-to-many relationship:\n",
    "- A many-to-many relationship:"
   ]
  },
  {
   "cell_type": "markdown",
   "metadata": {},
   "source": [
    "(f) Find an example of each of these, if there is one.\n",
    "- A ternary relationship:\n",
    "- A recursive relationship:"
   ]
  },
  {
   "cell_type": "markdown",
   "metadata": {},
   "source": [
    "***2. Translate the ER diagram into a relational schema without making any simplifications. That is, create one\n",
    "relation for every entity set and one relation for every relationship set. Underline the key of each relation,\n",
    "and draw arrows to indicate foreign keys.***"
   ]
  },
  {
   "cell_type": "markdown",
   "metadata": {},
   "source": [
    "- `Employee(Code, Surname, Salary, Age)`\n",
    "    - All attributes of `Employee` are not null.\n",
    "\n",
    "- `Project(Name, Budget, ReleaseDate)`\n",
    "    - Name and Budget are not null. ReleaseDate, however, could be null.\n",
    "\n",
    "- `Participation(Emp, Proj, StartDate)`\n",
    "    - Emp foreign key of Employee, Proj foreign key of Project. All attributes of Participation are not null.\n",
    "\n",
    "- `Branch(City, Number, Street, PostCode)`\n",
    "    - All attributes of Branch are not null.\n",
    "\n",
    "- `Department(Name, City)`\n",
    "    - `City` is foreign key of Branch (note that this foreign key represents the relationship Composition). All attributes of Department are not null.\n",
    "\n",
    "- `DeptPhone(Name, City, Phone)`\n",
    "    - `(Name, City)` foreign key of Department. All attributes of DeptPhone are not null.\n",
    "\n",
    "- `Management(Emp, Dept, City)`\n",
    "    - `Emp` foreign key of Employee. `(Dept, City)` is unique and a foreign key of Department. All attributes of Management are not null.\n",
    "\n",
    "- `Membership(Emp, Dept, City, StartDate)`\n",
    "    - `Emp` is a foreign key of `Employee`. `(Dept, City)` is unique and a foreign key of Department. All attributes of Membership are not null.\n",
    "\n",
    "- There are several relationships with a \"minimum 1\" constraint. These can be expressed in the relational model as follows:\n",
    "    - `Project[Name] ⊆ Participation[Proj]` (This enforces the minimum 1 constraint on Project’s involvement in the Participation relationship.)\n",
    "    - `Branch[City] ⊆ Department[City]` (This enforces the minimum 1 constraint on Branch’s involvement in the Composition relationship.)\n",
    "    - `Department[Name, City] ⊆ Membership[Dept, City]` (This enforces the minimum 1 constraint on Department’s involvement in the Membership relationship.)\n",
    "    - `Department[Name, City] ⊆ Management[Dept, City]` (This enforces the minimum 1 constraint on Department’s involvement in the Management relationship.)\n",
    "    - None of these can be expressed as FOREIGN KEY constraints in SQL, since they don’t refer to attributes that are either PRIMARY KEY or UNIQUE in their home table.\n",
    "\n",
    "- We have not enforced the \"minimum 1\" constraint on the phone attribute of Department"
   ]
  },
  {
   "cell_type": "markdown",
   "metadata": {},
   "source": [
    "***3. Which relationship sets represent information that can be collapsed onto an entity set? Revise the schema\n",
    "accordingly.***"
   ]
  },
  {
   "cell_type": "markdown",
   "metadata": {},
   "source": [
    "- Management and Composition (Composition is already collapsed above)"
   ]
  },
  {
   "cell_type": "markdown",
   "metadata": {},
   "source": [
    "- Management can be collapsed into Department. In that case, the minimum 1 constraint cannot be\n",
    "expressed as a constraint between Deparment and Management as shown above. However, we can still\n",
    "enforce it using a not-null constraint."
   ]
  },
  {
   "cell_type": "markdown",
   "metadata": {},
   "source": [
    "## In-class Exercises: Properties of Decompositions"
   ]
  },
  {
   "cell_type": "markdown",
   "metadata": {},
   "source": [
    "***1. A lossy join decomposition. Suppose we have a relation with attributes cdf, name, grade. Here is an instance of that relation:***"
   ]
  },
  {
   "cell_type": "markdown",
   "metadata": {},
   "source": [
    "| cdf | name | grade |\n",
    "|:-:|:-:|:-:|\n",
    "| g3tout | Amy | 91 |\n",
    "| g4foobar | David | 78 |\n",
    "| c0zhang | David | 85 |"
   ]
  },
  {
   "cell_type": "markdown",
   "metadata": {},
   "source": [
    "*(a) Suppose we were to decompose this into two new relations: R1(cdf, name) and R2(name, grade). Project the data\n",
    "onto those two new relations*"
   ]
  },
  {
   "cell_type": "markdown",
   "metadata": {},
   "source": [
    "| cdf | name |\n",
    "|:-:|:-:|\n",
    "| g3tout | Amy |\n",
    "| g4foobar | David |\n",
    "| c0zhang | David |"
   ]
  },
  {
   "cell_type": "markdown",
   "metadata": {},
   "source": [
    "| name | grade |\n",
    "|:-:|:-:|\n",
    "| Amy | 91 |\n",
    "| David | 78 |\n",
    "| David | 85 |"
   ]
  },
  {
   "cell_type": "markdown",
   "metadata": {},
   "source": [
    "*(b) Now compute R1 ./ R2 to rebuild the original table.*"
   ]
  },
  {
   "cell_type": "markdown",
   "metadata": {},
   "source": [
    "| cdf | name | grade |\n",
    "|:-:|:-:|:-:|\n",
    "| g3tout | Amy | 91 |\n",
    "| g4foobar | David | 78 |\n",
    "| c0zhang | David | 85 |\n",
    "| g4foobar | David | 85 |\n",
    "| c0zhang | David | 78 |"
   ]
  },
  {
   "cell_type": "code",
   "execution_count": null,
   "metadata": {
    "collapsed": true
   },
   "outputs": [],
   "source": [
    "BCNF\n",
    "\n",
    "1. No anomalies : ✓ (Due to no redundancy)\n",
    "2. Lossless Join : ✓ (Section 3.4.1 argues this)\n",
    "3. Dependency Preservation : ✗"
   ]
  },
  {
   "cell_type": "code",
   "execution_count": null,
   "metadata": {
    "collapsed": true
   },
   "outputs": [],
   "source": []
  },
  {
   "cell_type": "code",
   "execution_count": null,
   "metadata": {
    "collapsed": true
   },
   "outputs": [],
   "source": []
  },
  {
   "cell_type": "markdown",
   "metadata": {},
   "source": [
    "## Glossary"
   ]
  },
  {
   "cell_type": "markdown",
   "metadata": {},
   "source": [
    "- ***entity set*** - Describes individual entities.\n",
    "- ***week entity set*** - Depends on another entity set for identity (not for existance).\n",
    "- ***relationship set*** - Describes relationships between entities.\n",
    "- ***ternary relationship*** - Relationship between three things, where all three things can't be null.\n",
    "- ***recursive relationship*** - Relationship between one thing."
   ]
  }
 ],
 "metadata": {
  "kernelspec": {
   "display_name": "Python [default]",
   "language": "python",
   "name": "python3"
  },
  "language_info": {
   "codemirror_mode": {
    "name": "ipython",
    "version": 3
   },
   "file_extension": ".py",
   "mimetype": "text/x-python",
   "name": "python",
   "nbconvert_exporter": "python",
   "pygments_lexer": "ipython3",
   "version": "3.6.4"
  },
  "toc": {
   "base_numbering": 1,
   "nav_menu": {},
   "number_sections": false,
   "sideBar": true,
   "skip_h1_title": false,
   "title_cell": "Table of Contents",
   "title_sidebar": "Contents",
   "toc_cell": false,
   "toc_position": {
    "height": "calc(100% - 180px)",
    "left": "10px",
    "top": "150px",
    "width": "384px"
   },
   "toc_section_display": true,
   "toc_window_display": true
  }
 },
 "nbformat": 4,
 "nbformat_minor": 2
}
