{
 "cells": [
  {
   "cell_type": "markdown",
   "metadata": {},
   "source": [
    "# Tutorial 11"
   ]
  },
  {
   "cell_type": "markdown",
   "metadata": {},
   "source": [
    "## ER Diagrams"
   ]
  },
  {
   "cell_type": "markdown",
   "metadata": {},
   "source": [
    "***1. Consider the following ER diagram:***\n",
    "\n",
    "![](tutorial_11/ER-1.png)"
   ]
  },
  {
   "cell_type": "markdown",
   "metadata": {
    "collapsed": true
   },
   "source": [
    "Which of these cardinalities is possible?"
   ]
  },
  {
   "cell_type": "markdown",
   "metadata": {},
   "source": [
    "| ｜person｜ | ｜member｜ | ｜club｜ | Is it possible? |\n",
    "|:-:|:-:|:-:|:-:|\n",
    "| 5 | 0 | 8 |   |\n",
    "| 5 | 7 | 8 |   |\n",
    "| 5 | 0 | 5 |   |\n",
    "| 5 | 10 | 5 |   |\n",
    "| 11 | 3 | 4 |   |\n",
    "| 11 | 9 | 4 | yes |"
   ]
  },
  {
   "cell_type": "markdown",
   "metadata": {},
   "source": [
    "***2. Below is an Entity-Relationship diagram about car dealerships. It may or may not represent the domain\n",
    "well. Answer the questions below.***"
   ]
  },
  {
   "cell_type": "markdown",
   "metadata": {
    "collapsed": true
   },
   "source": [
    "![](tutorial_11/ER-2.png)"
   ]
  },
  {
   "cell_type": "markdown",
   "metadata": {},
   "source": [
    "*(a) A car sale cannot involve more than one salesperson.*"
   ]
  },
  {
   "cell_type": "markdown",
   "metadata": {},
   "source": [
    "True"
   ]
  },
  {
   "cell_type": "markdown",
   "metadata": {},
   "source": [
    "*(b) There can be two cars with the same VIN as long as the model and year are different.*"
   ]
  },
  {
   "cell_type": "markdown",
   "metadata": {},
   "source": [
    "False"
   ]
  },
  {
   "cell_type": "markdown",
   "metadata": {},
   "source": [
    "*(c) A salesperson can work at any number of dealerships.*"
   ]
  },
  {
   "cell_type": "markdown",
   "metadata": {},
   "source": [
    "False (exactly 1 dealership)"
   ]
  },
  {
   "cell_type": "markdown",
   "metadata": {},
   "source": [
    "*(d) There can’t be more salespeople than dealerships.*"
   ]
  },
  {
   "cell_type": "markdown",
   "metadata": {},
   "source": [
    "False (can be more)"
   ]
  },
  {
   "cell_type": "markdown",
   "metadata": {},
   "source": [
    "*(e) There can be multiple sales on the same date.*"
   ]
  },
  {
   "cell_type": "markdown",
   "metadata": {},
   "source": [
    "True"
   ]
  },
  {
   "cell_type": "markdown",
   "metadata": {},
   "source": [
    "*(f) Two salespeople can have the same sID as long as they work at different dealerships.*"
   ]
  },
  {
   "cell_type": "markdown",
   "metadata": {},
   "source": [
    "False"
   ]
  },
  {
   "cell_type": "markdown",
   "metadata": {},
   "source": [
    "*(g) This model contains a weak entity set.*"
   ]
  },
  {
   "cell_type": "markdown",
   "metadata": {},
   "source": [
    "False"
   ]
  },
  {
   "cell_type": "markdown",
   "metadata": {},
   "source": [
    "*(h) The works at relationship is a one-to-many relationship.*"
   ]
  },
  {
   "cell_type": "markdown",
   "metadata": {},
   "source": [
    "True"
   ]
  },
  {
   "cell_type": "markdown",
   "metadata": {},
   "source": [
    "## In-class Exercises: Properties of Decompositions"
   ]
  },
  {
   "cell_type": "markdown",
   "metadata": {
    "collapsed": true
   },
   "source": [
    "***1. Consider the following ER diagram:***\n",
    "\n",
    "![](tutorial_11/ER2-1.png)"
   ]
  },
  {
   "cell_type": "markdown",
   "metadata": {},
   "source": [
    "(a) Name a weak entity set in this diagram."
   ]
  },
  {
   "cell_type": "markdown",
   "metadata": {},
   "source": [
    "Department"
   ]
  },
  {
   "cell_type": "markdown",
   "metadata": {},
   "source": [
    "(b) What attributes form a key for this entity set?"
   ]
  },
  {
   "cell_type": "markdown",
   "metadata": {},
   "source": [
    "Name, City"
   ]
  },
  {
   "cell_type": "markdown",
   "metadata": {},
   "source": [
    "(c) Can a department exist without a manager?"
   ]
  },
  {
   "cell_type": "markdown",
   "metadata": {},
   "source": [
    "no, exactly one manager"
   ]
  },
  {
   "cell_type": "markdown",
   "metadata": {},
   "source": [
    "(d) How many departments can an employee belong to?"
   ]
  },
  {
   "cell_type": "markdown",
   "metadata": {},
   "source": [
    "At most one"
   ]
  },
  {
   "cell_type": "markdown",
   "metadata": {},
   "source": [
    "(e) Find an example of each of these kinds of relationship, if there is one."
   ]
  },
  {
   "cell_type": "markdown",
   "metadata": {},
   "source": [
    "A one-to-one relationship: Management"
   ]
  },
  {
   "cell_type": "markdown",
   "metadata": {},
   "source": [
    "A one-to-many relationship: Membership"
   ]
  },
  {
   "cell_type": "markdown",
   "metadata": {},
   "source": [
    "A many-to-many relationship: Participation    "
   ]
  },
  {
   "cell_type": "markdown",
   "metadata": {},
   "source": [
    "(f) Find an example of each of these, if there is one.\n",
    "- A ternary relationship:\n",
    "- A recursive relationship:"
   ]
  },
  {
   "cell_type": "markdown",
   "metadata": {},
   "source": [
    "***2. Translate the ER diagram into a relational schema without making any simplifications. That is, create one\n",
    "relation for every entity set and one relation for every relationship set. Underline the key of each relation,\n",
    "and draw arrows to indicate foreign keys.***"
   ]
  },
  {
   "cell_type": "markdown",
   "metadata": {},
   "source": [
    "```\n",
    "Participation(Proj) -> Project(Name)\n",
    "Participation(Emp) -> Employee(Code)\n",
    "Management(Emp) -> Employee(Code)\n",
    "Management(Dept, City) -> Department(Name, City)\n",
    "Membership(Emp) -> Employee(Code)\n",
    "Membership(Dept, City) -> Department(Name, City)\n",
    "Department(City) -> Branch(City)\n",
    "```"
   ]
  },
  {
   "cell_type": "markdown",
   "metadata": {},
   "source": [
    "***3. Which relationship sets represent information that can be collapsed onto an entity set? Revise the schema\n",
    "accordingly.***"
   ]
  },
  {
   "cell_type": "markdown",
   "metadata": {},
   "source": [
    "## In-class Exercises: Properties of Decompositions"
   ]
  },
  {
   "cell_type": "markdown",
   "metadata": {},
   "source": [
    "***1. A lossy join decomposition.***"
   ]
  },
  {
   "cell_type": "markdown",
   "metadata": {},
   "source": [
    "Suppose we have a relation with attributes cdf, name, grade. Here is an instance of that relation:\n",
    "\n",
    "| cdf | name | grade |\n",
    "|:-:|:-:|:-:|\n",
    "| g3tout | Amy | 91 |\n",
    "| g4foobar | David | 78 |\n",
    "| c0zhang | David | 85 |"
   ]
  },
  {
   "cell_type": "markdown",
   "metadata": {},
   "source": [
    "*(a) Suppose we were to decompose this into two new relations: R1(cdf, name) and R2(name, grade). Project the data\n",
    "onto those two new relations*"
   ]
  },
  {
   "cell_type": "markdown",
   "metadata": {},
   "source": [
    "| cdf | name |\n",
    "|:-:|:-:|\n",
    "| g3tout | Amy |\n",
    "| g4foobar | David |\n",
    "| c0zhang | David |"
   ]
  },
  {
   "cell_type": "markdown",
   "metadata": {},
   "source": [
    "| name | grade |\n",
    "|:-:|:-:|\n",
    "| Amy | 91 |\n",
    "| David | 78 |\n",
    "| David | 85 |"
   ]
  },
  {
   "cell_type": "markdown",
   "metadata": {},
   "source": [
    "*(b) Now compute R1 ⋈ R2 to rebuild the original table.*"
   ]
  },
  {
   "cell_type": "markdown",
   "metadata": {},
   "source": [
    "| cdf | name | grade |\n",
    "|:-:|:-:|:-:|\n",
    "| g3tout | Amy | 91 |\n",
    "| g4foobar | David | 78 |\n",
    "| c0zhang | David | 85 |\n",
    "| g4foobar | David | 85 |\n",
    "| c0zhang | David | 78 |"
   ]
  },
  {
   "cell_type": "markdown",
   "metadata": {},
   "source": [
    "## Glossary"
   ]
  },
  {
   "cell_type": "markdown",
   "metadata": {},
   "source": [
    "- ***entity set*** - Describes individual entities.\n",
    "- ***week entity set*** - Entity set which depends on a related entity set for identity (not for existence).\n",
    "- ***relationship set*** - Describes relationships between entities.\n",
    "- ***ternary relationship*** - Relationship between three entity sets, where all three entities are not null.\n",
    "- ***recursive relationship*** - Relationship between rows in the same entity set."
   ]
  }
 ],
 "metadata": {
  "anaconda-cloud": {},
  "kernelspec": {
   "display_name": "Python [default]",
   "language": "python",
   "name": "python3"
  },
  "language_info": {
   "codemirror_mode": {
    "name": "ipython",
    "version": 3
   },
   "file_extension": ".py",
   "mimetype": "text/x-python",
   "name": "python",
   "nbconvert_exporter": "python",
   "pygments_lexer": "ipython3",
   "version": "3.6.4"
  },
  "toc": {
   "base_numbering": 1,
   "colors": {
    "hover_highlight": "#DAA520",
    "navigate_num": "#000000",
    "navigate_text": "#333333",
    "running_highlight": "#FF0000",
    "selected_highlight": "#FFD700",
    "sidebar_border": "#EEEEEE",
    "wrapper_background": "#FFFFFF"
   },
   "moveMenuLeft": true,
   "nav_menu": {},
   "navigate_menu": true,
   "number_sections": false,
   "sideBar": false,
   "skip_h1_title": false,
   "threshold": 4,
   "title_cell": "Table of Contents",
   "title_sidebar": "Contents",
   "toc_cell": false,
   "toc_position": {
    "height": "318px",
    "left": "139px",
    "right": "20px",
    "top": "88px",
    "width": "163px"
   },
   "toc_section_display": true,
   "toc_window_display": false,
   "widenNotebook": false
  }
 },
 "nbformat": 4,
 "nbformat_minor": 2
}
