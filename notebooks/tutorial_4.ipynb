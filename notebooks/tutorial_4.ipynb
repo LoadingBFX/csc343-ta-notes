{
 "cells": [
  {
   "cell_type": "markdown",
   "metadata": {},
   "source": [
    "# Overview"
   ]
  },
  {
   "cell_type": "markdown",
   "metadata": {},
   "source": [
    "# Start database"
   ]
  },
  {
   "cell_type": "code",
   "execution_count": null,
   "metadata": {},
   "outputs": [],
   "source": [
    "%run start_db.ipynb"
   ]
  },
  {
   "cell_type": "code",
   "execution_count": null,
   "metadata": {},
   "outputs": [],
   "source": [
    "engine = sa.create_engine(DB_URL, connect_args={'options': '-csearch_path=University'})"
   ]
  },
  {
   "cell_type": "code",
   "execution_count": null,
   "metadata": {
    "scrolled": false
   },
   "outputs": [],
   "source": [
    "engine.table_names()"
   ]
  },
  {
   "cell_type": "markdown",
   "metadata": {},
   "source": [
    "## Load cell magic"
   ]
  },
  {
   "cell_type": "code",
   "execution_count": null,
   "metadata": {},
   "outputs": [],
   "source": [
    "import pandas as pd\n",
    "import sqlalchemy as sa"
   ]
  },
  {
   "cell_type": "code",
   "execution_count": null,
   "metadata": {},
   "outputs": [],
   "source": [
    "sql_query = \"\"\"\\\n",
    "select *\n",
    "from student\n",
    "limit 2;\n",
    "\"\"\"\n",
    "\n",
    "df = pd.read_sql_query(sql_query, engine)\n",
    "\n",
    "display(df)"
   ]
  },
  {
   "cell_type": "code",
   "execution_count": null,
   "metadata": {},
   "outputs": [],
   "source": [
    "%run sql_magic.ipynb"
   ]
  },
  {
   "cell_type": "code",
   "execution_count": null,
   "metadata": {
    "code_folding": []
   },
   "outputs": [],
   "source": [
    "%%sql\n",
    "select *\n",
    "from student\n",
    "limit 2;"
   ]
  },
  {
   "cell_type": "code",
   "execution_count": null,
   "metadata": {},
   "outputs": [],
   "source": [
    "%%sql\n",
    "select *\n",
    "from course\n",
    "limit 2;"
   ]
  },
  {
   "cell_type": "code",
   "execution_count": null,
   "metadata": {
    "code_folding": []
   },
   "outputs": [],
   "source": [
    "%%sql\n",
    "select *\n",
    "from offering\n",
    "limit 2;"
   ]
  },
  {
   "cell_type": "code",
   "execution_count": null,
   "metadata": {
    "code_folding": []
   },
   "outputs": [],
   "source": [
    "%%sql\n",
    "select *\n",
    "from took\n",
    "limit 2;"
   ]
  },
  {
   "cell_type": "markdown",
   "metadata": {},
   "source": [
    "# Exercises"
   ]
  },
  {
   "cell_type": "markdown",
   "metadata": {},
   "source": [
    "## GROUP BY and HAVING"
   ]
  },
  {
   "cell_type": "markdown",
   "metadata": {},
   "source": [
    "#### 1. Write a query to find the average grade, minimum grade, and maximum grade for each offering."
   ]
  },
  {
   "cell_type": "code",
   "execution_count": null,
   "metadata": {
    "code_folding": [
     0
    ]
   },
   "outputs": [],
   "source": [
    "%%sql\n",
    "select oid, avg(grade), min(grade), max(grade)\n",
    "from Took\n",
    "group by oid;"
   ]
  },
  {
   "cell_type": "markdown",
   "metadata": {},
   "source": [
    "#### 2. Which of these queries is legal?"
   ]
  },
  {
   "cell_type": "code",
   "execution_count": null,
   "metadata": {
    "code_folding": [
     0
    ]
   },
   "outputs": [],
   "source": [
    "%%sql\n",
    "SELECT surname, sid\n",
    "FROM Student, Took\n",
    "WHERE Student.sid = Took.sid\n",
    "GROUP BY sid;"
   ]
  },
  {
   "cell_type": "code",
   "execution_count": null,
   "metadata": {
    "code_folding": [
     0
    ],
    "scrolled": true
   },
   "outputs": [],
   "source": [
    "%%sql\n",
    "SELECT instructor, max(grade),\n",
    "count(Took.oid)\n",
    "FROM Took, Offering\n",
    "WHERE Took.oid = Offering.oid\n",
    "GROUP BY instructor;"
   ]
  },
  {
   "cell_type": "code",
   "execution_count": null,
   "metadata": {
    "code_folding": []
   },
   "outputs": [],
   "source": [
    "%%sql\n",
    "SELECT surname, Student.sid\n",
    "FROM Student, Took\n",
    "WHERE Student.sid = Took.sid\n",
    "GROUP BY campus;"
   ]
  },
  {
   "cell_type": "code",
   "execution_count": null,
   "metadata": {
    "code_folding": [
     0
    ]
   },
   "outputs": [],
   "source": [
    "%%sql\n",
    "SELECT Course.dept, Course.cnum,\n",
    "count(oid), count(instructor)\n",
    "FROM Course, Offering\n",
    "WHERE Course.dept = Offering.dept and\n",
    "Course.cnum = Offering.cnum\n",
    "GROUP BY Course.dept, Course.cnum\n",
    "ORDER BY count(oid);"
   ]
  },
  {
   "cell_type": "markdown",
   "metadata": {},
   "source": [
    "#### 3. Find the sid and minimum grade of each student with an average over 80."
   ]
  },
  {
   "cell_type": "code",
   "execution_count": null,
   "metadata": {
    "code_folding": [
     0
    ]
   },
   "outputs": [],
   "source": [
    "%%sql\n",
    "SELECT SID, min(grade)\n",
    "FROM Took\n",
    "GROUP BY sID\n",
    "HAVING AVG(grade) > 80;"
   ]
  },
  {
   "cell_type": "markdown",
   "metadata": {
    "run_control": {
     "marked": false
    }
   },
   "source": [
    "#### 4. Find the sid, surname, and average grade of each student, but keep the data only for those students who have taken at least 10 courses."
   ]
  },
  {
   "cell_type": "code",
   "execution_count": null,
   "metadata": {
    "code_folding": [
     0
    ]
   },
   "outputs": [],
   "source": [
    "%%sql\n",
    "SELECT Student.sID, surname, avg(grade)\n",
    "FROM Student, Took\n",
    "WHERE Student.sID = Took.sID\n",
    "GROUP BY Student.sID\n",
    "HAVING count(grade) >= 10;"
   ]
  },
  {
   "cell_type": "markdown",
   "metadata": {},
   "source": [
    "#### 5. For each student who has passed at least 10 courses, report their sid and average grade on the courses that they passed."
   ]
  },
  {
   "cell_type": "code",
   "execution_count": null,
   "metadata": {
    "code_folding": [
     0
    ]
   },
   "outputs": [],
   "source": [
    "%%sql\n",
    "SELECT sid, AVG(grade)\n",
    "FROM took\n",
    "WHERE grade >= 50\n",
    "GROUP BY sid\n",
    "HAVING count(*) >= 10;"
   ]
  },
  {
   "cell_type": "markdown",
   "metadata": {},
   "source": [
    "#### 6. For each student who has passed at least 10 courses, report their sid and average grade on *all of their courses*."
   ]
  },
  {
   "cell_type": "code",
   "execution_count": null,
   "metadata": {
    "code_folding": [
     0
    ]
   },
   "outputs": [],
   "source": [
    "%%sql\n",
    "CREATE OR REPLACE VIEW Seniors AS\n",
    "SELECT sid\n",
    "FROM Took\n",
    "WHERE grade >= 50\n",
    "GROUP BY sid\n",
    "HAVING count(*) >= 10;\n",
    "\n",
    "SELECT Seniors.sid, AVG(grade)\n",
    "FROM Seniors, Took\n",
    "WHERE seniors.sid = Took.sid\n",
    "GROUP BY Seniors.sid;"
   ]
  },
  {
   "cell_type": "markdown",
   "metadata": {},
   "source": [
    "#### 7. Which of these queries is legal?"
   ]
  },
  {
   "cell_type": "code",
   "execution_count": null,
   "metadata": {
    "code_folding": []
   },
   "outputs": [],
   "source": [
    "%%sql\n",
    "SELECT dept\n",
    "FROM Took, Offering\n",
    "WHERE Took.oID = Offering.oID\n",
    "GROUP BY dept\n",
    "HAVING avg(grade) > 75;"
   ]
  },
  {
   "cell_type": "code",
   "execution_count": null,
   "metadata": {
    "code_folding": []
   },
   "outputs": [],
   "source": [
    "%%sql\n",
    "SELECT Took.oID, avg(grade)\n",
    "FROM Took, Offering\n",
    "WHERE Took.oID = Offering.oID\n",
    "GROUP BY Took.oID\n",
    "HAVING avg(grade) > 75;"
   ]
  },
  {
   "cell_type": "code",
   "execution_count": null,
   "metadata": {},
   "outputs": [],
   "source": [
    "%%sql\n",
    "SELECT Took.oID, dept, cNum, avg(grade)\n",
    "FROM Took, Offering\n",
    "WHERE Took.oID = Offering.oID\n",
    "GROUP BY Took.oID\n",
    "HAVING avg(grade) > 75;"
   ]
  },
  {
   "cell_type": "code",
   "execution_count": null,
   "metadata": {},
   "outputs": [],
   "source": [
    "%%sql\n",
    "SELECT oID, avg(grade)\n",
    "FROM Took\n",
    "GROUP BY sID\n",
    "HAVING avg(grade) > 75;"
   ]
  },
  {
   "cell_type": "markdown",
   "metadata": {},
   "source": [
    "## Set Operations: Solutions"
   ]
  },
  {
   "cell_type": "markdown",
   "metadata": {},
   "source": [
    "#### 1. Answer each of the following questions with an arithmetic expression."
   ]
  },
  {
   "cell_type": "markdown",
   "metadata": {},
   "source": [
    "Suppose a row occurs $n$ times in table R and $m$ times in table S."
   ]
  },
  {
   "cell_type": "markdown",
   "metadata": {},
   "source": [
    "(a) Using bag semantics, how many times will it occur in table R $\\cup$ S?"
   ]
  },
  {
   "cell_type": "code",
   "execution_count": null,
   "metadata": {
    "code_folding": [
     0
    ]
   },
   "outputs": [],
   "source": [
    "# solution\n",
    "# n + m"
   ]
  },
  {
   "cell_type": "markdown",
   "metadata": {},
   "source": [
    "(b) Using bag semantics, how many times will it occur in table R $\\cap$ S?"
   ]
  },
  {
   "cell_type": "code",
   "execution_count": null,
   "metadata": {
    "code_folding": [
     0
    ]
   },
   "outputs": [],
   "source": [
    "# solution\n",
    "# min(n, m)"
   ]
  },
  {
   "cell_type": "markdown",
   "metadata": {},
   "source": [
    "(c) Using bag semantics, how many times will it occur in table R $-$ S?"
   ]
  },
  {
   "cell_type": "code",
   "execution_count": null,
   "metadata": {
    "code_folding": [
     0
    ]
   },
   "outputs": [],
   "source": [
    "# solution\n",
    "# max(n − m, 0)"
   ]
  },
  {
   "cell_type": "markdown",
   "metadata": {},
   "source": [
    "#### 2. Use a set operation to find all terms when Jepson and Suzuki were both teaching. Include every occurrence of a term from the result of both operands."
   ]
  },
  {
   "cell_type": "code",
   "execution_count": null,
   "metadata": {},
   "outputs": [],
   "source": [
    "%%sql\n",
    "(select Term from Offering where instructor = 'Suzuki')\n",
    "intersect all\n",
    "(select Term from Offering where instructor = 'Jepson');"
   ]
  },
  {
   "cell_type": "markdown",
   "metadata": {},
   "source": [
    "#### 3. Find the sID of students who have earned a grade of 85 or more in some course, or who have passed a course taught by Atwood. Ensure that no sID occurs twice in the result."
   ]
  },
  {
   "cell_type": "code",
   "execution_count": null,
   "metadata": {
    "code_folding": []
   },
   "outputs": [],
   "source": [
    "%%sql\n",
    "CREATE OR REPLACE VIEW High as\n",
    "(select sid from took where grade >= 85);\n",
    "\n",
    "CREATE OR REPLACE VIEW HighAtwood as\n",
    "(select sid\n",
    "from Took, Offering\n",
    "where Took.oid = Offering.oid and instructor = 'Atwood' and grade >= 50);\n",
    "\n",
    "(select * from high)\n",
    "UNION\n",
    "(select * from highAtwood);"
   ]
  },
  {
   "cell_type": "markdown",
   "metadata": {},
   "source": [
    "#### 4. Find all terms when csc369 was not offered."
   ]
  },
  {
   "cell_type": "code",
   "execution_count": null,
   "metadata": {
    "code_folding": []
   },
   "outputs": [],
   "source": [
    "%%sql\n",
    "(select term\n",
    "from Offering)\n",
    "except\n",
    "(select term\n",
    "from Offering\n",
    "where dept = 'csc' and cNum = 369);"
   ]
  },
  {
   "cell_type": "code",
   "execution_count": null,
   "metadata": {},
   "outputs": [],
   "source": []
  }
 ],
 "metadata": {
  "anaconda-cloud": {},
  "kernelspec": {
   "display_name": "Python 3",
   "language": "python",
   "name": "python3"
  },
  "toc": {
   "base_numbering": 1,
   "nav_menu": {
    "height": "13px",
    "width": "251px"
   },
   "number_sections": false,
   "sideBar": true,
   "skip_h1_title": false,
   "title_cell": "Table of Contents",
   "title_sidebar": "Contents",
   "toc_cell": false,
   "toc_position": {
    "height": "292px",
    "left": "0px",
    "right": "20px",
    "top": "106px",
    "width": "24px"
   },
   "toc_section_display": "block",
   "toc_window_display": true
  }
 },
 "nbformat": 4,
 "nbformat_minor": 2
}
